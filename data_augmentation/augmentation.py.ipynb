{
 "cells": [
  {
   "cell_type": "code",
   "execution_count": 1,
   "id": "ae0f1182",
   "metadata": {},
   "outputs": [],
   "source": [
    "import pandas as pd\n",
    "import sys"
   ]
  },
  {
   "cell_type": "markdown",
   "id": "0e876293",
   "metadata": {},
   "source": [
    "### 1. Obtenir la liste des images présentes dans train"
   ]
  },
  {
   "cell_type": "code",
   "execution_count": 2,
   "id": "1ae03858",
   "metadata": {
    "scrolled": true
   },
   "outputs": [
    {
     "name": "stdout",
     "output_type": "stream",
     "text": [
      "9954\n"
     ]
    }
   ],
   "source": [
    "path_train_csv = '/tf/ship_data/annotations/70_80/train_70_80.csv'\n",
    "df_train = pd.read_csv(path_train_csv)\n",
    "train_img_l = df_train[df_train.xmax == df_train.xmax]['filename'].unique()\n",
    "print(len(train_img_l))"
   ]
  },
  {
   "cell_type": "markdown",
   "id": "9588a8b6",
   "metadata": {},
   "source": [
    "### 2. Créer les masques correspondants"
   ]
  },
  {
   "cell_type": "code",
   "execution_count": 3,
   "id": "97142e72",
   "metadata": {},
   "outputs": [],
   "source": [
    "sys.path.insert(0, '/tf/ship_detect_tl/mask')\n",
    "from generate_mask import generate_mask_img"
   ]
  },
  {
   "cell_type": "code",
   "execution_count": 4,
   "id": "b7f8bd8f",
   "metadata": {},
   "outputs": [
    {
     "name": "stderr",
     "output_type": "stream",
     "text": [
      "100%|██████████████████████████████████████████████████████████████████████████████████████████████████████████████████████████████████████████████████████████████████████████| 9954/9954 [03:13<00:00, 51.40it/s]\n"
     ]
    }
   ],
   "source": [
    "img_l = train_img_l\n",
    "mask_dir = '/tf/ship_data/masks_only_one_image'\n",
    "path_to_csv = '/tf/ship_data/train_ship_segmentations_v2.csv'\n",
    "generate_mask_img(img_l, mask_dir, path_to_csv)"
   ]
  },
  {
   "cell_type": "markdown",
   "id": "4bd24319",
   "metadata": {},
   "source": [
    "### 3. Procéder à l'augmentation de données"
   ]
  },
  {
   "cell_type": "code",
   "execution_count": 5,
   "id": "58b2a407",
   "metadata": {},
   "outputs": [],
   "source": [
    "from augmentation import augment"
   ]
  },
  {
   "cell_type": "code",
   "execution_count": 6,
   "id": "d38eadcc",
   "metadata": {},
   "outputs": [],
   "source": [
    "img_l = train_img_l\n",
    "img_dir = '/tf/ship_data/train_v2'\n",
    "mask_dir = '/tf/ship_data/masks_only_one_image'\n",
    "img_saving_dir = '/tf/ship_data/augmented_data/imgs'\n",
    "mask_saving_dir = '/tf/ship_data/augmented_data/masks'\n",
    "path_od_csv = '/tf/ship_detect_tl/data_parsing/CSV/train_ship_segmentations_OD.csv'\n",
    "path_new_od_csv = '/tf/ship_data/augmented_data/augmented_data_OD.csv'"
   ]
  },
  {
   "cell_type": "code",
   "execution_count": 7,
   "id": "fdab5caf",
   "metadata": {
    "scrolled": false
   },
   "outputs": [
    {
     "name": "stderr",
     "output_type": "stream",
     "text": [
      "100%|████████████████████████████████████████████████████████████████████████████████████████████████████████████████████████████████████████████████████████████████████████| 9954/9954 [7:30:48<00:00,  2.72s/it]\n"
     ]
    }
   ],
   "source": [
    "augment(img_l, img_dir, img_saving_dir, mask_dir, mask_saving_dir, path_od_csv, path_new_od_csv)"
   ]
  }
 ],
 "metadata": {
  "kernelspec": {
   "display_name": "Python 3 (ipykernel)",
   "language": "python",
   "name": "python3"
  },
  "language_info": {
   "codemirror_mode": {
    "name": "ipython",
    "version": 3
   },
   "file_extension": ".py",
   "mimetype": "text/x-python",
   "name": "python",
   "nbconvert_exporter": "python",
   "pygments_lexer": "ipython3",
   "version": "3.8.10"
  }
 },
 "nbformat": 4,
 "nbformat_minor": 5
}
