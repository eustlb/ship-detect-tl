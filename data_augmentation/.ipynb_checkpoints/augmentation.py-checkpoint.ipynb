{
 "cells": [
  {
   "cell_type": "code",
   "execution_count": 4,
   "id": "24bcc916",
   "metadata": {},
   "outputs": [],
   "source": [
    "import pandas as pd\n",
    "import sys"
   ]
  },
  {
   "cell_type": "markdown",
   "id": "4eaefdca",
   "metadata": {},
   "source": [
    "### 1. Obtenir la liste des images présentes dans train"
   ]
  },
  {
   "cell_type": "code",
   "execution_count": 5,
   "id": "51027be5",
   "metadata": {},
   "outputs": [
    {
     "name": "stdout",
     "output_type": "stream",
     "text": [
      "9805\n"
     ]
    }
   ],
   "source": [
    "path_train_csv = '/tf/ship_data/annotations/70_80/train_70_80.csv'\n",
    "df_train = pd.read_csv(path_train_csv)\n",
    "train_img_l = df_train[df_train.xmax == df_train.xmax]['filename'].unique()\n",
    "print(len(train_img_l))"
   ]
  },
  {
   "cell_type": "markdown",
   "id": "44dfcc7e",
   "metadata": {},
   "source": [
    "### 2. Créer les masques correspondants"
   ]
  },
  {
   "cell_type": "code",
   "execution_count": 12,
   "id": "33a28665",
   "metadata": {},
   "outputs": [],
   "source": [
    "sys.path.insert(0, '/tf/ship_detect_tl/mask')\n",
    "from generate_mask import generate_mask_img"
   ]
  },
  {
   "cell_type": "code",
   "execution_count": 13,
   "id": "e5980064",
   "metadata": {},
   "outputs": [
    {
     "name": "stderr",
     "output_type": "stream",
     "text": [
      "100%|██████████████████████████████████████████████████████████████████████████████████████████████████████████████████████████████████████████████████████████████████████████| 9805/9805 [03:06<00:00, 52.57it/s]\n"
     ]
    }
   ],
   "source": [
    "img_l = train_img_l\n",
    "mask_dir = '/tf/ship_data/masks_only_one_image'\n",
    "path_to_csv = '/tf/ship_data/train_ship_segmentations_v2.csv'\n",
    "generate_mask_img(img_l, mask_dir, path_to_csv)"
   ]
  },
  {
   "cell_type": "markdown",
   "id": "263c137d",
   "metadata": {},
   "source": [
    "### 3. Procéder à l'augmentation de données"
   ]
  },
  {
   "cell_type": "code",
   "execution_count": 17,
   "id": "ca0ea44d",
   "metadata": {},
   "outputs": [],
   "source": [
    "from augmentation import augment"
   ]
  },
  {
   "cell_type": "code",
   "execution_count": 18,
   "id": "f1ddcb31",
   "metadata": {},
   "outputs": [],
   "source": [
    "img_l = train_img_l[:3]\n",
    "img_dir = '/tf/ship_data/train_v2'\n",
    "mask_dir = '/tf/ship_data/masks_only_one_image'\n",
    "img_saving_dir = '/tf/ship_data/augmented_data/imgs'\n",
    "mask_saving_dir = '/tf/ship_data/augmented_data/masks'\n",
    "path_od_csv = '/tf/ship_detect_tl/data_parsing/CSV/train_ship_segmentations_OD.csv'\n",
    "path_new_od_csv = '/tf/ship_data/augmented_data/augmented_data_OD.csv'"
   ]
  },
  {
   "cell_type": "code",
   "execution_count": 19,
   "id": "f65b721f",
   "metadata": {
    "scrolled": true
   },
   "outputs": [
    {
     "name": "stderr",
     "output_type": "stream",
     "text": [
      "  0%|                                                                                                                                                                                        | 0/3 [00:00<?, ?it/s][ WARN:0@1395.021] global /io/opencv/modules/imgcodecs/src/loadsave.cpp (239) findDecoder imread_('/tf/ship_data/augmented_data/masks/676f4cfd0_mask.png'): can't open/read file: check file path/integrity\n",
      "  0%|                                                                                                                                                                                        | 0/3 [00:00<?, ?it/s]\n"
     ]
    },
    {
     "ename": "TypeError",
     "evalue": "mask must be numpy array type",
     "output_type": "error",
     "traceback": [
      "\u001b[0;31m---------------------------------------------------------------------------\u001b[0m",
      "\u001b[0;31mTypeError\u001b[0m                                 Traceback (most recent call last)",
      "Input \u001b[0;32mIn [19]\u001b[0m, in \u001b[0;36m<cell line: 1>\u001b[0;34m()\u001b[0m\n\u001b[0;32m----> 1\u001b[0m \u001b[43maugment\u001b[49m\u001b[43m(\u001b[49m\u001b[43mimg_l\u001b[49m\u001b[43m,\u001b[49m\u001b[43m \u001b[49m\u001b[43mimg_dir\u001b[49m\u001b[43m,\u001b[49m\u001b[43m \u001b[49m\u001b[43mimg_saving_dir\u001b[49m\u001b[43m,\u001b[49m\u001b[43m \u001b[49m\u001b[43mmask_saving_dir\u001b[49m\u001b[43m,\u001b[49m\u001b[43m \u001b[49m\u001b[43mmask_dir\u001b[49m\u001b[43m,\u001b[49m\u001b[43m \u001b[49m\u001b[43mpath_od_csv\u001b[49m\u001b[43m,\u001b[49m\u001b[43m \u001b[49m\u001b[43mpath_new_od_csv\u001b[49m\u001b[43m)\u001b[49m\n",
      "File \u001b[0;32m/tf/ship_detect_tl/data_augmentation/augmentation.py:204\u001b[0m, in \u001b[0;36maugment\u001b[0;34m(img_l, img_dir, img_saving_dir, mask_dir, mask_saving_dir, path_od_csv, path_new_od_csv)\u001b[0m\n\u001b[1;32m    201\u001b[0m df_list \u001b[38;5;241m=\u001b[39m []\n\u001b[1;32m    203\u001b[0m \u001b[38;5;28;01mfor\u001b[39;00m img_name \u001b[38;5;129;01min\u001b[39;00m tqdm(img_l):\n\u001b[0;32m--> 204\u001b[0m     df \u001b[38;5;241m=\u001b[39m \u001b[43maugment_img\u001b[49m\u001b[43m(\u001b[49m\u001b[43mimg_name\u001b[49m\u001b[43m,\u001b[49m\u001b[43m \u001b[49m\u001b[43mimg_dir\u001b[49m\u001b[43m,\u001b[49m\u001b[43m \u001b[49m\u001b[43mmask_dir\u001b[49m\u001b[43m,\u001b[49m\u001b[43m \u001b[49m\u001b[43mimg_saving_dir\u001b[49m\u001b[43m,\u001b[49m\u001b[43m \u001b[49m\u001b[43mmask_saving_dir\u001b[49m\u001b[43m,\u001b[49m\u001b[43m \u001b[49m\u001b[43mpath_od_csv\u001b[49m\u001b[43m)\u001b[49m\n\u001b[1;32m    205\u001b[0m     df_list\u001b[38;5;241m.\u001b[39mappend(df)\n\u001b[1;32m    207\u001b[0m pd\u001b[38;5;241m.\u001b[39mconcat(df_list, ignore_index\u001b[38;5;241m=\u001b[39m\u001b[38;5;28;01mTrue\u001b[39;00m)\u001b[38;5;241m.\u001b[39mto_csv(path_new_od_csv)\n",
      "File \u001b[0;32m/tf/ship_detect_tl/data_augmentation/augmentation.py:151\u001b[0m, in \u001b[0;36maugment_img\u001b[0;34m(img_name, img_dir, mask_dir, img_saving_dir, mask_saving_dir, path_od_csv)\u001b[0m\n\u001b[1;32m    147\u001b[0m \u001b[38;5;66;03m# On peut former 7 nouvelles images à partir de transformation de type symétrie axiale et rotation\u001b[39;00m\n\u001b[1;32m    148\u001b[0m \n\u001b[1;32m    149\u001b[0m \u001b[38;5;66;03m# 1 - vertical flip \u001b[39;00m\n\u001b[1;32m    150\u001b[0m img_obj1 \u001b[38;5;241m=\u001b[39m Image(img_dir, img_name, mask_dir, path_od_csv)\n\u001b[0;32m--> 151\u001b[0m \u001b[43mimg_obj1\u001b[49m\u001b[38;5;241;43m.\u001b[39;49m\u001b[43mtransform\u001b[49m\u001b[43m(\u001b[49m\u001b[38;5;241;43m2\u001b[39;49m\u001b[43m,\u001b[49m\u001b[38;5;241;43m0\u001b[39;49m\u001b[43m)\u001b[49m\n\u001b[1;32m    152\u001b[0m img_obj1\u001b[38;5;241m.\u001b[39msave(img_saving_dir, mask_saving_dir)\n\u001b[1;32m    154\u001b[0m \u001b[38;5;66;03m# 2 - vertical flip + 90° rotation\u001b[39;00m\n",
      "File \u001b[0;32m/tf/ship_detect_tl/data_augmentation/augmentation.py:97\u001b[0m, in \u001b[0;36mImage.transform\u001b[0;34m(self, k, rot)\u001b[0m\n\u001b[1;32m     87\u001b[0m transform \u001b[38;5;241m=\u001b[39m A\u001b[38;5;241m.\u001b[39mCompose(\n\u001b[1;32m     88\u001b[0m     [A\u001b[38;5;241m.\u001b[39mVerticalFlip(p\u001b[38;5;241m=\u001b[39mvert_p),\n\u001b[1;32m     89\u001b[0m     A\u001b[38;5;241m.\u001b[39mHorizontalFlip(p\u001b[38;5;241m=\u001b[39mhori_p),\n\u001b[0;32m   (...)\u001b[0m\n\u001b[1;32m     93\u001b[0m     A\u001b[38;5;241m.\u001b[39mRandomBrightnessContrast()], \n\u001b[1;32m     94\u001b[0m     bbox_params\u001b[38;5;241m=\u001b[39mA\u001b[38;5;241m.\u001b[39mBboxParams(\u001b[38;5;28mformat\u001b[39m\u001b[38;5;241m=\u001b[39m\u001b[38;5;124m'\u001b[39m\u001b[38;5;124mpascal_voc\u001b[39m\u001b[38;5;124m'\u001b[39m))\n\u001b[1;32m     96\u001b[0m \u001b[38;5;66;03m# appliquer à l'image\u001b[39;00m\n\u001b[0;32m---> 97\u001b[0m transformed \u001b[38;5;241m=\u001b[39m \u001b[43mtransform\u001b[49m\u001b[43m(\u001b[49m\u001b[43mimage\u001b[49m\u001b[38;5;241;43m=\u001b[39;49m\u001b[38;5;28;43mself\u001b[39;49m\u001b[38;5;241;43m.\u001b[39;49m\u001b[43mimg\u001b[49m\u001b[43m,\u001b[49m\u001b[43mmask\u001b[49m\u001b[38;5;241;43m=\u001b[39;49m\u001b[38;5;28;43mself\u001b[39;49m\u001b[38;5;241;43m.\u001b[39;49m\u001b[43mmask\u001b[49m\u001b[43m,\u001b[49m\u001b[43mbboxes\u001b[49m\u001b[38;5;241;43m=\u001b[39;49m\u001b[38;5;28;43mself\u001b[39;49m\u001b[38;5;241;43m.\u001b[39;49m\u001b[43mbboxes\u001b[49m\u001b[43m)\u001b[49m\n\u001b[1;32m     99\u001b[0m \u001b[38;5;66;03m# changer les attribut de l'objet\u001b[39;00m\n\u001b[1;32m    100\u001b[0m \u001b[38;5;28mself\u001b[39m\u001b[38;5;241m.\u001b[39mimg \u001b[38;5;241m=\u001b[39m transformed[\u001b[38;5;124m'\u001b[39m\u001b[38;5;124mimage\u001b[39m\u001b[38;5;124m'\u001b[39m]\n",
      "File \u001b[0;32m/usr/local/lib/python3.8/dist-packages/albumentations/core/composition.py:190\u001b[0m, in \u001b[0;36mCompose.__call__\u001b[0;34m(self, force_apply, *args, **data)\u001b[0m\n\u001b[1;32m    188\u001b[0m     \u001b[38;5;28;01mraise\u001b[39;00m \u001b[38;5;167;01mKeyError\u001b[39;00m(\u001b[38;5;124m\"\u001b[39m\u001b[38;5;124mYou have to pass data to augmentations as named arguments, for example: aug(image=image)\u001b[39m\u001b[38;5;124m\"\u001b[39m)\n\u001b[1;32m    189\u001b[0m \u001b[38;5;28;01mif\u001b[39;00m \u001b[38;5;28mself\u001b[39m\u001b[38;5;241m.\u001b[39mis_check_args:\n\u001b[0;32m--> 190\u001b[0m     \u001b[38;5;28;43mself\u001b[39;49m\u001b[38;5;241;43m.\u001b[39;49m\u001b[43m_check_args\u001b[49m\u001b[43m(\u001b[49m\u001b[38;5;241;43m*\u001b[39;49m\u001b[38;5;241;43m*\u001b[39;49m\u001b[43mdata\u001b[49m\u001b[43m)\u001b[49m\n\u001b[1;32m    191\u001b[0m \u001b[38;5;28;01massert\u001b[39;00m \u001b[38;5;28misinstance\u001b[39m(force_apply, (\u001b[38;5;28mbool\u001b[39m, \u001b[38;5;28mint\u001b[39m)), \u001b[38;5;124m\"\u001b[39m\u001b[38;5;124mforce_apply must have bool or int type\u001b[39m\u001b[38;5;124m\"\u001b[39m\n\u001b[1;32m    192\u001b[0m need_to_run \u001b[38;5;241m=\u001b[39m force_apply \u001b[38;5;129;01mor\u001b[39;00m random\u001b[38;5;241m.\u001b[39mrandom() \u001b[38;5;241m<\u001b[39m \u001b[38;5;28mself\u001b[39m\u001b[38;5;241m.\u001b[39mp\n",
      "File \u001b[0;32m/usr/local/lib/python3.8/dist-packages/albumentations/core/composition.py:267\u001b[0m, in \u001b[0;36mCompose._check_args\u001b[0;34m(self, **kwargs)\u001b[0m\n\u001b[1;32m    265\u001b[0m \u001b[38;5;28;01mif\u001b[39;00m internal_data_name \u001b[38;5;129;01min\u001b[39;00m checked_single:\n\u001b[1;32m    266\u001b[0m     \u001b[38;5;28;01mif\u001b[39;00m \u001b[38;5;129;01mnot\u001b[39;00m \u001b[38;5;28misinstance\u001b[39m(data, np\u001b[38;5;241m.\u001b[39mndarray):\n\u001b[0;32m--> 267\u001b[0m         \u001b[38;5;28;01mraise\u001b[39;00m \u001b[38;5;167;01mTypeError\u001b[39;00m(\u001b[38;5;124m\"\u001b[39m\u001b[38;5;132;01m{}\u001b[39;00m\u001b[38;5;124m must be numpy array type\u001b[39m\u001b[38;5;124m\"\u001b[39m\u001b[38;5;241m.\u001b[39mformat(data_name))\n\u001b[1;32m    268\u001b[0m \u001b[38;5;28;01mif\u001b[39;00m internal_data_name \u001b[38;5;129;01min\u001b[39;00m checked_multi:\n\u001b[1;32m    269\u001b[0m     \u001b[38;5;28;01mif\u001b[39;00m data:\n",
      "\u001b[0;31mTypeError\u001b[0m: mask must be numpy array type"
     ]
    }
   ],
   "source": [
    "augment(img_l, img_dir, img_saving_dir, mask_dir, mask_saving_dir, path_od_csv, path_new_od_csv)"
   ]
  },
  {
   "cell_type": "code",
   "execution_count": 9,
   "id": "725d1936",
   "metadata": {},
   "outputs": [
    {
     "name": "stdout",
     "output_type": "stream",
     "text": [
      "True\n"
     ]
    }
   ],
   "source": [
    "import os\n",
    "print('676f4cfd0_mask.png' in os.listdir(mask_dir))"
   ]
  },
  {
   "cell_type": "code",
   "execution_count": 14,
   "id": "8f4a55d9",
   "metadata": {},
   "outputs": [],
   "source": [
    "from augmentation import Image\n",
    "img_name = '676f4cfd0.jpg'\n",
    "img_obj1 = Image(img_dir, img_name, mask_dir, path_od_csv)"
   ]
  },
  {
   "cell_type": "code",
   "execution_count": 15,
   "id": "18cbac2d",
   "metadata": {},
   "outputs": [
    {
     "name": "stdout",
     "output_type": "stream",
     "text": [
      "[[[0 0 0]\n",
      "  [0 0 0]\n",
      "  [0 0 0]\n",
      "  ...\n",
      "  [0 0 0]\n",
      "  [0 0 0]\n",
      "  [0 0 0]]\n",
      "\n",
      " [[0 0 0]\n",
      "  [0 0 0]\n",
      "  [0 0 0]\n",
      "  ...\n",
      "  [0 0 0]\n",
      "  [0 0 0]\n",
      "  [0 0 0]]\n",
      "\n",
      " [[0 0 0]\n",
      "  [0 0 0]\n",
      "  [0 0 0]\n",
      "  ...\n",
      "  [0 0 0]\n",
      "  [0 0 0]\n",
      "  [0 0 0]]\n",
      "\n",
      " ...\n",
      "\n",
      " [[0 0 0]\n",
      "  [0 0 0]\n",
      "  [0 0 0]\n",
      "  ...\n",
      "  [0 0 0]\n",
      "  [0 0 0]\n",
      "  [0 0 0]]\n",
      "\n",
      " [[0 0 0]\n",
      "  [0 0 0]\n",
      "  [0 0 0]\n",
      "  ...\n",
      "  [0 0 0]\n",
      "  [0 0 0]\n",
      "  [0 0 0]]\n",
      "\n",
      " [[0 0 0]\n",
      "  [0 0 0]\n",
      "  [0 0 0]\n",
      "  ...\n",
      "  [0 0 0]\n",
      "  [0 0 0]\n",
      "  [0 0 0]]]\n"
     ]
    }
   ],
   "source": [
    "print(img_obj1.mask)"
   ]
  },
  {
   "cell_type": "code",
   "execution_count": null,
   "id": "51745663",
   "metadata": {},
   "outputs": [],
   "source": []
  }
 ],
 "metadata": {
  "kernelspec": {
   "display_name": "Python 3 (ipykernel)",
   "language": "python",
   "name": "python3"
  },
  "language_info": {
   "codemirror_mode": {
    "name": "ipython",
    "version": 3
   },
   "file_extension": ".py",
   "mimetype": "text/x-python",
   "name": "python",
   "nbconvert_exporter": "python",
   "pygments_lexer": "ipython3",
   "version": "3.8.10"
  }
 },
 "nbformat": 4,
 "nbformat_minor": 5
}
