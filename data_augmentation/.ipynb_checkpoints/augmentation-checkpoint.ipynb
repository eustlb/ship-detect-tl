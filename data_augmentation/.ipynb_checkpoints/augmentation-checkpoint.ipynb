{
 "cells": [
  {
   "cell_type": "code",
   "execution_count": 65,
   "id": "ae9fa684",
   "metadata": {},
   "outputs": [],
   "source": [
    "import albumentations as A\n",
    "import cv2\n",
    "import os\n",
    "import numpy as np"
   ]
  },
  {
   "cell_type": "code",
   "execution_count": 66,
   "id": "d2217efd",
   "metadata": {},
   "outputs": [],
   "source": [
    "img_dir = '/tf/test/imgs'\n",
    "mask_dir = '/tf/test/masks'\n",
    "saving_dir = '/tf/test/imgs'\n",
    "path_to_csv = '/tf/ship_data/train_ship_segmentations_v2.csv'"
   ]
  },
  {
   "cell_type": "code",
   "execution_count": 67,
   "id": "c346d532",
   "metadata": {},
   "outputs": [],
   "source": [
    "img_name = '00021ddc3.jpg'"
   ]
  },
  {
   "cell_type": "code",
   "execution_count": 73,
   "id": "d69b1526",
   "metadata": {},
   "outputs": [],
   "source": [
    "from augmentation import Image\n",
    "img_obj = Image(img_dir,img_name,mask_dir,path_to_csv)"
   ]
  },
  {
   "cell_type": "code",
   "execution_count": 74,
   "id": "93926b38",
   "metadata": {},
   "outputs": [],
   "source": [
    "transform = A.Compose(\n",
    "    [A.HorizontalFlip(p=1),\n",
    "     A.ColorJitter()\n",
    "     A.Blur(),\n",
    "     A.RandomBrightnessContrast()\n",
    "    ], \n",
    "    bbox_params=A.BboxParams(format='pascal_voc'))"
   ]
  },
  {
   "cell_type": "code",
   "execution_count": 75,
   "id": "b463e863",
   "metadata": {},
   "outputs": [],
   "source": [
    "transformed = transform(\n",
    "  image=img_obj.img,\n",
    "  mask=img_obj.mask,\n",
    "  bboxes=img_obj.bboxes\n",
    ")"
   ]
  },
  {
   "cell_type": "code",
   "execution_count": 76,
   "id": "3082338f",
   "metadata": {
    "scrolled": true
   },
   "outputs": [
    {
     "name": "stdout",
     "output_type": "stream",
     "text": [
      "[(140.0, 740.0, 177.0, 768.0, 'ship'), (131.0, 732.0, 167.0, 762.0, 'ship'), (96.0, 710.0, 111.0, 717.0, 'ship'), (96.0, 715.0, 106.0, 720.0, 'ship'), (195.0, 661.0, 200.0, 665.0, 'ship'), (181.0, 629.0, 186.0, 638.0, 'ship'), (98.0, 705.0, 111.0, 712.0, 'ship'), (112.0, 708.0, 120.0, 713.0, 'ship'), (123.0, 755.0, 135.0, 767.0, 'ship')]\n"
     ]
    }
   ],
   "source": [
    "img_obj.img = transformed['image']\n",
    "img_obj.mask = transformed['mask']\n",
    "img_obj.bboxs = transformed['bboxes']\n",
    "print(img_obj.bboxs)"
   ]
  },
  {
   "cell_type": "code",
   "execution_count": 77,
   "id": "7ffd5637",
   "metadata": {},
   "outputs": [],
   "source": [
    "img_obj.name = 'test.png'\n",
    "img_obj.save('/tf/test/results','/tf/test/results')"
   ]
  },
  {
   "cell_type": "code",
   "execution_count": null,
   "id": "1d337b47",
   "metadata": {},
   "outputs": [],
   "source": []
  },
  {
   "cell_type": "code",
   "execution_count": 13,
   "id": "f266b262",
   "metadata": {},
   "outputs": [],
   "source": [
    "transform = A.Compose(\n",
    "    [, \n",
    "     HueSaturationValue,\n",
    "     A.Blur(p=1)\n",
    "    ], \n",
    "    bbox_params=A.BboxParams(format='pascal_voc'))"
   ]
  },
  {
   "cell_type": "code",
   "execution_count": null,
   "id": "94cdcb6e",
   "metadata": {},
   "outputs": [],
   "source": []
  }
 ],
 "metadata": {
  "kernelspec": {
   "display_name": "Python 3 (ipykernel)",
   "language": "python",
   "name": "python3"
  },
  "language_info": {
   "codemirror_mode": {
    "name": "ipython",
    "version": 3
   },
   "file_extension": ".py",
   "mimetype": "text/x-python",
   "name": "python",
   "nbconvert_exporter": "python",
   "pygments_lexer": "ipython3",
   "version": "3.8.10"
  }
 },
 "nbformat": 4,
 "nbformat_minor": 5
}
