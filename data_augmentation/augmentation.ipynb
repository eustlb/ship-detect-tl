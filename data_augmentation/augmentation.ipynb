{
 "cells": [
  {
   "cell_type": "code",
   "execution_count": 30,
   "id": "ae9fa684",
   "metadata": {},
   "outputs": [],
   "source": [
    "import albumentations as A\n",
    "import cv2\n",
    "import os\n",
    "import numpy as np"
   ]
  },
  {
   "cell_type": "code",
   "execution_count": 31,
   "id": "d2217efd",
   "metadata": {},
   "outputs": [],
   "source": [
    "img_dir = '/tf/ship_data/train_v2'\n",
    "img_name = '000194a2d.jpg'\n",
    "mask_dir = '/tf/ship_data/masks_only_one_image'\n",
    "saving_dir = ('/tf')\n",
    "path_to_csv = '/tf/ship_data/train_ship_segmentations_v2.csv'"
   ]
  },
  {
   "cell_type": "code",
   "execution_count": 32,
   "id": "93926b38",
   "metadata": {},
   "outputs": [],
   "source": [
    "transform = A.Compose([\n",
    "    A.HorizontalFlip(p=1)\n",
    "])"
   ]
  },
  {
   "cell_type": "code",
   "execution_count": 33,
   "id": "b463e863",
   "metadata": {},
   "outputs": [],
   "source": [
    "transformed = transform(\n",
    "  image=img,\n",
    "  mask=mask,\n",
    "  bboxes=bboxes,\n",
    "  bbox_classes=bbox_classes,\n",
    "  keypoints=keypoints,\n",
    "  keypoints_classes=keypoints_classes,\n",
    ")"
   ]
  },
  {
   "cell_type": "code",
   "execution_count": 34,
   "id": "3082338f",
   "metadata": {},
   "outputs": [
    {
     "data": {
      "text/plain": [
       "True"
      ]
     },
     "execution_count": 34,
     "metadata": {},
     "output_type": "execute_result"
    }
   ],
   "source": [
    "cv2.imwrite('/tf/rotation.png', img)"
   ]
  },
  {
   "cell_type": "code",
   "execution_count": 36,
   "id": "54f672e6",
   "metadata": {},
   "outputs": [
    {
     "name": "stdout",
     "output_type": "stream",
     "text": [
      "[1, 2, 3]\n"
     ]
    }
   ],
   "source": [
    "print(list(range(1,4)))"
   ]
  },
  {
   "cell_type": "code",
   "execution_count": null,
   "id": "7ffd5637",
   "metadata": {},
   "outputs": [],
   "source": []
  }
 ],
 "metadata": {
  "kernelspec": {
   "display_name": "Python 3 (ipykernel)",
   "language": "python",
   "name": "python3"
  },
  "language_info": {
   "codemirror_mode": {
    "name": "ipython",
    "version": 3
   },
   "file_extension": ".py",
   "mimetype": "text/x-python",
   "name": "python",
   "nbconvert_exporter": "python",
   "pygments_lexer": "ipython3",
   "version": "3.8.10"
  }
 },
 "nbformat": 4,
 "nbformat_minor": 5
}
