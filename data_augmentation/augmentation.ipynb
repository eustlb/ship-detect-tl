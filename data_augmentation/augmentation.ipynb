{
 "cells": [
  {
   "cell_type": "code",
   "execution_count": 2,
   "id": "ae9fa684",
   "metadata": {},
   "outputs": [],
   "source": [
    "import albumentations as A\n",
    "import cv2\n",
    "import os\n",
    "import numpy as np"
   ]
  },
  {
   "cell_type": "code",
   "execution_count": 3,
   "id": "d2217efd",
   "metadata": {},
   "outputs": [],
   "source": [
    "img_dir = '/tf/test/imgs'\n",
    "mask_dir = '/tf/test/masks'\n",
    "saving_dir = '/tf/test/imgs'\n",
    "path_to_csv = '/tf/ship_data/train_ship_segmentations_v2.csv'\n",
    "path_od_csv = '/tf/ship_detect_tl/data_parsing/CSV/train_ship_segmentations_OD.csv'\n"
   ]
  },
  {
   "cell_type": "code",
   "execution_count": 4,
   "id": "c346d532",
   "metadata": {},
   "outputs": [],
   "source": [
    "img_name = '00021ddc3.jpg'"
   ]
  },
  {
   "cell_type": "code",
   "execution_count": 5,
   "id": "d69b1526",
   "metadata": {},
   "outputs": [
    {
     "name": "stdout",
     "output_type": "stream",
     "text": [
      "         filename  width  height class   xmin   ymin   xmax   ymax\n",
      "9   00021ddc3.jpg    768     768  ship  140.0  740.0  177.0  768.0\n",
      "10  00021ddc3.jpg    768     768  ship  131.0  732.0  167.0  762.0\n",
      "11  00021ddc3.jpg    768     768  ship   96.0  710.0  111.0  717.0\n",
      "12  00021ddc3.jpg    768     768  ship   96.0  715.0  106.0  720.0\n",
      "13  00021ddc3.jpg    768     768  ship  195.0  661.0  200.0  665.0\n",
      "14  00021ddc3.jpg    768     768  ship  181.0  629.0  186.0  638.0\n",
      "15  00021ddc3.jpg    768     768  ship   98.0  705.0  111.0  712.0\n",
      "16  00021ddc3.jpg    768     768  ship  112.0  708.0  120.0  713.0\n",
      "17  00021ddc3.jpg    768     768  ship  123.0  755.0  135.0  767.0\n"
     ]
    }
   ],
   "source": [
    "from augmentation import Image\n",
    "img_obj = Image(img_dir,img_name,mask_dir, path_od_csv)\n",
    "print(img_obj.df)"
   ]
  },
  {
   "cell_type": "code",
   "execution_count": 6,
   "id": "93926b38",
   "metadata": {},
   "outputs": [],
   "source": [
    "transform = A.Compose(\n",
    "    [A.Rotate(limit=(270,270), p=1)\n",
    "    ], \n",
    "    bbox_params=A.BboxParams(format='pascal_voc'))"
   ]
  },
  {
   "cell_type": "code",
   "execution_count": 7,
   "id": "b463e863",
   "metadata": {},
   "outputs": [],
   "source": [
    "transformed = transform(\n",
    "  image=img_obj.img,\n",
    "  mask=img_obj.mask,\n",
    "  bboxes=img_obj.bboxes\n",
    ")"
   ]
  },
  {
   "cell_type": "code",
   "execution_count": 8,
   "id": "3082338f",
   "metadata": {
    "scrolled": true
   },
   "outputs": [
    {
     "name": "stdout",
     "output_type": "stream",
     "text": [
      "         filename  width  height class   xmin   ymin   xmax   ymax\n",
      "9   00021ddc3.jpg    768     768  ship  140.0  740.0  177.0  768.0\n",
      "10  00021ddc3.jpg    768     768  ship  131.0  732.0  167.0  762.0\n",
      "11  00021ddc3.jpg    768     768  ship   96.0  710.0  111.0  717.0\n",
      "12  00021ddc3.jpg    768     768  ship   96.0  715.0  106.0  720.0\n",
      "13  00021ddc3.jpg    768     768  ship  195.0  661.0  200.0  665.0\n",
      "14  00021ddc3.jpg    768     768  ship  181.0  629.0  186.0  638.0\n",
      "15  00021ddc3.jpg    768     768  ship   98.0  705.0  111.0  712.0\n",
      "16  00021ddc3.jpg    768     768  ship  112.0  708.0  120.0  713.0\n",
      "17  00021ddc3.jpg    768     768  ship  123.0  755.0  135.0  767.0\n",
      "[(4.263256414560601e-14, 139.9999999999999, 28.00000000000007, 176.99999999999991, 9), (6.000000000000043, 130.9999999999999, 36.00000000000004, 166.99999999999994, 10), (51.00000000000004, 95.99999999999996, 58.00000000000007, 110.99999999999996, 11), (48.00000000000004, 95.99999999999996, 53.000000000000014, 105.99999999999999, 12), (103.00000000000007, 194.99999999999994, 107.00000000000001, 199.99999999999997, 13), (130.00000000000006, 181.0, 139.00000000000006, 185.99999999999994, 14), (56.000000000000014, 97.99999999999993, 63.00000000000004, 110.99999999999996, 15), (55.00000000000007, 111.99999999999999, 60.00000000000004, 119.99999999999996, 16), (1.000000000000071, 122.99999999999991, 13.000000000000071, 134.99999999999991, 17)]\n"
     ]
    }
   ],
   "source": [
    "img_obj.img = transformed['image']\n",
    "img_obj.mask = transformed['mask']\n",
    "img_obj.bboxes = transformed['bboxes']\n",
    "print(img_obj.df)\n",
    "print(img_obj.bboxes)"
   ]
  },
  {
   "cell_type": "code",
   "execution_count": 1,
   "id": "7ffd5637",
   "metadata": {},
   "outputs": [
    {
     "ename": "NameError",
     "evalue": "name 'img_obj' is not defined",
     "output_type": "error",
     "traceback": [
      "\u001b[0;31m---------------------------------------------------------------------------\u001b[0m",
      "\u001b[0;31mNameError\u001b[0m                                 Traceback (most recent call last)",
      "Input \u001b[0;32mIn [1]\u001b[0m, in \u001b[0;36m<cell line: 1>\u001b[0;34m()\u001b[0m\n\u001b[0;32m----> 1\u001b[0m \u001b[43mimg_obj\u001b[49m\u001b[38;5;241m.\u001b[39mname \u001b[38;5;241m=\u001b[39m \u001b[38;5;124m'\u001b[39m\u001b[38;5;124mtest.png\u001b[39m\u001b[38;5;124m'\u001b[39m\n\u001b[1;32m      2\u001b[0m img_obj\u001b[38;5;241m.\u001b[39msave(\u001b[38;5;124m'\u001b[39m\u001b[38;5;124m/tf/test/results\u001b[39m\u001b[38;5;124m'\u001b[39m,\u001b[38;5;124m'\u001b[39m\u001b[38;5;124m/tf/test/results\u001b[39m\u001b[38;5;124m'\u001b[39m)\n",
      "\u001b[0;31mNameError\u001b[0m: name 'img_obj' is not defined"
     ]
    }
   ],
   "source": [
    "img_obj.name = 'test.png'\n",
    "img_obj.save('/tf/test/results','/tf/test/results')"
   ]
  },
  {
   "cell_type": "code",
   "execution_count": null,
   "id": "1d337b47",
   "metadata": {},
   "outputs": [],
   "source": []
  },
  {
   "cell_type": "code",
   "execution_count": 13,
   "id": "f266b262",
   "metadata": {},
   "outputs": [],
   "source": [
    "transform = A.Compose(\n",
    "    [, \n",
    "     HueSaturationValue,\n",
    "     A.Blur(p=1)\n",
    "    ], \n",
    "    bbox_params=A.BboxParams(format='pascal_voc'))"
   ]
  },
  {
   "cell_type": "code",
   "execution_count": null,
   "id": "2cc7d011",
   "metadata": {},
   "outputs": [],
   "source": []
  }
 ],
 "metadata": {
  "kernelspec": {
   "display_name": "Python 3 (ipykernel)",
   "language": "python",
   "name": "python3"
  },
  "language_info": {
   "codemirror_mode": {
    "name": "ipython",
    "version": 3
   },
   "file_extension": ".py",
   "mimetype": "text/x-python",
   "name": "python",
   "nbconvert_exporter": "python",
   "pygments_lexer": "ipython3",
   "version": "3.8.10"
  }
 },
 "nbformat": 4,
 "nbformat_minor": 5
}
