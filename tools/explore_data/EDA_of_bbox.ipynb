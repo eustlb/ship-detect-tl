{
 "cells": [
  {
   "cell_type": "markdown",
   "metadata": {},
   "source": [
    "# Anchor Boxes Analysis using K-Means"
   ]
  },
  {
   "cell_type": "markdown",
   "metadata": {},
   "source": [
    "Ce code est extrait et adapté de : \n",
    "https://github.com/joydeepmedhi/Anchor-Boxes-with-KMeans/blob/master/EDA%20of%20bbox.ipynb.\n",
    "Il a pour objectf de déterminer par clustering les tailles et ratios est boites 'anchor' utilisées par faster rcnn."
   ]
  },
  {
   "cell_type": "markdown",
   "metadata": {},
   "source": [
    "### Section 1"
   ]
  },
  {
   "cell_type": "code",
   "execution_count": 52,
   "metadata": {},
   "outputs": [],
   "source": [
    "import pandas as pd\n",
    "import numpy as np\n",
    "import matplotlib.pyplot as plt\n",
    "import math\n",
    "%matplotlib inline\n",
    "import os\n",
    "import cv2\n",
    "\n",
    "import warnings\n",
    "warnings.filterwarnings('ignore')"
   ]
  },
  {
   "cell_type": "markdown",
   "metadata": {},
   "source": [
    "### with Image resizing (correct way!)\n",
    "\n",
    "#### Read csv\n",
    "A csv was made from xml file using \"xml_to_csv.py\""
   ]
  },
  {
   "cell_type": "code",
   "execution_count": 53,
   "metadata": {},
   "outputs": [],
   "source": [
    "#Read the dataset\n",
    "data = pd.read_csv('/tf/ship_data/train_ship_segmentations_OD.csv')\n",
    "data = data[data.xmax == data.xmax]\n",
    "\n",
    "#utility function to get width & height\n",
    "def change_to_wh (data):\n",
    "    data['w'] = data['xmax'] - data['xmin'] + 1\n",
    "    data['h'] = data['ymax'] - data['ymin'] + 1\n",
    "    return data\n",
    "\n",
    "min_dimension = 600\n",
    "max_dimension = 1024\n",
    "\n",
    "# function from Tensorflow Object Detection API to resize image\n",
    "def _compute_new_static_size(width, height, min_dimension, max_dimension):\n",
    "    orig_height = height\n",
    "    orig_width = width\n",
    "    orig_min_dim = min(orig_height, orig_width)\n",
    "  \n",
    "    # Calculates the larger of the possible sizes\n",
    "    large_scale_factor = min_dimension / float(orig_min_dim)\n",
    "      # Scaling orig_(height|width) by large_scale_factor will make the smaller\n",
    "      # dimension equal to min_dimension, save for floating point rounding errors.\n",
    "      # For reasonably-sized images, taking the nearest integer will reliably\n",
    "      # eliminate this error.\n",
    "    large_height = int(round(orig_height * large_scale_factor))\n",
    "    large_width = int(round(orig_width * large_scale_factor))\n",
    "    large_size = [large_height, large_width]\n",
    "    if max_dimension:\n",
    "    # Calculates the smaller of the possible sizes, use that if the larger\n",
    "    # is too big.\n",
    "        orig_max_dim = max(orig_height, orig_width)\n",
    "        small_scale_factor = max_dimension / float(orig_max_dim)\n",
    "    # Scaling orig_(height|width) by small_scale_factor will make the larger\n",
    "    # dimension equal to max_dimension, save for floating point rounding\n",
    "    # errors. For reasonably-sized images, taking the nearest integer will\n",
    "    # reliably eliminate this error.\n",
    "        small_height = int(round(orig_height * small_scale_factor))\n",
    "        small_width = int(round(orig_width * small_scale_factor))\n",
    "        small_size = [small_height, small_width]\n",
    "        new_size = large_size\n",
    "    if max(large_size) > max_dimension:\n",
    "        new_size = small_size\n",
    "    else:\n",
    "        new_size = large_size\n",
    "    \n",
    "    return new_size[1], new_size[0]"
   ]
  },
  {
   "cell_type": "code",
   "execution_count": 54,
   "metadata": {},
   "outputs": [
    {
     "data": {
      "text/html": [
       "<div>\n",
       "<style scoped>\n",
       "    .dataframe tbody tr th:only-of-type {\n",
       "        vertical-align: middle;\n",
       "    }\n",
       "\n",
       "    .dataframe tbody tr th {\n",
       "        vertical-align: top;\n",
       "    }\n",
       "\n",
       "    .dataframe thead th {\n",
       "        text-align: right;\n",
       "    }\n",
       "</style>\n",
       "<table border=\"1\" class=\"dataframe\">\n",
       "  <thead>\n",
       "    <tr style=\"text-align: right;\">\n",
       "      <th></th>\n",
       "      <th>Unnamed: 0.1</th>\n",
       "      <th>Unnamed: 0</th>\n",
       "      <th>width</th>\n",
       "      <th>height</th>\n",
       "      <th>xmin</th>\n",
       "      <th>ymin</th>\n",
       "      <th>xmax</th>\n",
       "      <th>ymax</th>\n",
       "    </tr>\n",
       "  </thead>\n",
       "  <tbody>\n",
       "    <tr>\n",
       "      <th>count</th>\n",
       "      <td>81713.000000</td>\n",
       "      <td>81713.000000</td>\n",
       "      <td>81713.0</td>\n",
       "      <td>81713.0</td>\n",
       "      <td>81713.000000</td>\n",
       "      <td>81713.000000</td>\n",
       "      <td>81713.000000</td>\n",
       "      <td>81713.000000</td>\n",
       "    </tr>\n",
       "    <tr>\n",
       "      <th>mean</th>\n",
       "      <td>115834.929815</td>\n",
       "      <td>115834.929815</td>\n",
       "      <td>768.0</td>\n",
       "      <td>768.0</td>\n",
       "      <td>357.935628</td>\n",
       "      <td>362.691677</td>\n",
       "      <td>409.439502</td>\n",
       "      <td>405.403804</td>\n",
       "    </tr>\n",
       "    <tr>\n",
       "      <th>std</th>\n",
       "      <td>66858.754692</td>\n",
       "      <td>66858.754692</td>\n",
       "      <td>0.0</td>\n",
       "      <td>0.0</td>\n",
       "      <td>216.605407</td>\n",
       "      <td>217.775228</td>\n",
       "      <td>216.364008</td>\n",
       "      <td>217.371162</td>\n",
       "    </tr>\n",
       "    <tr>\n",
       "      <th>min</th>\n",
       "      <td>2.000000</td>\n",
       "      <td>2.000000</td>\n",
       "      <td>768.0</td>\n",
       "      <td>768.0</td>\n",
       "      <td>0.000000</td>\n",
       "      <td>0.000000</td>\n",
       "      <td>3.000000</td>\n",
       "      <td>3.000000</td>\n",
       "    </tr>\n",
       "    <tr>\n",
       "      <th>25%</th>\n",
       "      <td>58237.000000</td>\n",
       "      <td>58237.000000</td>\n",
       "      <td>768.0</td>\n",
       "      <td>768.0</td>\n",
       "      <td>170.000000</td>\n",
       "      <td>174.000000</td>\n",
       "      <td>224.000000</td>\n",
       "      <td>219.000000</td>\n",
       "    </tr>\n",
       "    <tr>\n",
       "      <th>50%</th>\n",
       "      <td>115455.000000</td>\n",
       "      <td>115455.000000</td>\n",
       "      <td>768.0</td>\n",
       "      <td>768.0</td>\n",
       "      <td>356.000000</td>\n",
       "      <td>361.000000</td>\n",
       "      <td>411.000000</td>\n",
       "      <td>406.000000</td>\n",
       "    </tr>\n",
       "    <tr>\n",
       "      <th>75%</th>\n",
       "      <td>173993.000000</td>\n",
       "      <td>173993.000000</td>\n",
       "      <td>768.0</td>\n",
       "      <td>768.0</td>\n",
       "      <td>542.000000</td>\n",
       "      <td>550.000000</td>\n",
       "      <td>598.000000</td>\n",
       "      <td>595.000000</td>\n",
       "    </tr>\n",
       "    <tr>\n",
       "      <th>max</th>\n",
       "      <td>231714.000000</td>\n",
       "      <td>231714.000000</td>\n",
       "      <td>768.0</td>\n",
       "      <td>768.0</td>\n",
       "      <td>765.000000</td>\n",
       "      <td>764.000000</td>\n",
       "      <td>768.000000</td>\n",
       "      <td>768.000000</td>\n",
       "    </tr>\n",
       "  </tbody>\n",
       "</table>\n",
       "</div>"
      ],
      "text/plain": [
       "        Unnamed: 0.1     Unnamed: 0    width   height          xmin  \\\n",
       "count   81713.000000   81713.000000  81713.0  81713.0  81713.000000   \n",
       "mean   115834.929815  115834.929815    768.0    768.0    357.935628   \n",
       "std     66858.754692   66858.754692      0.0      0.0    216.605407   \n",
       "min         2.000000       2.000000    768.0    768.0      0.000000   \n",
       "25%     58237.000000   58237.000000    768.0    768.0    170.000000   \n",
       "50%    115455.000000  115455.000000    768.0    768.0    356.000000   \n",
       "75%    173993.000000  173993.000000    768.0    768.0    542.000000   \n",
       "max    231714.000000  231714.000000    768.0    768.0    765.000000   \n",
       "\n",
       "               ymin          xmax          ymax  \n",
       "count  81713.000000  81713.000000  81713.000000  \n",
       "mean     362.691677    409.439502    405.403804  \n",
       "std      217.775228    216.364008    217.371162  \n",
       "min        0.000000      3.000000      3.000000  \n",
       "25%      174.000000    224.000000    219.000000  \n",
       "50%      361.000000    411.000000    406.000000  \n",
       "75%      550.000000    598.000000    595.000000  \n",
       "max      764.000000    768.000000    768.000000  "
      ]
     },
     "execution_count": 54,
     "metadata": {},
     "output_type": "execute_result"
    }
   ],
   "source": [
    "# Initial Data\n",
    "data.describe()"
   ]
  },
  {
   "cell_type": "code",
   "execution_count": 55,
   "metadata": {},
   "outputs": [],
   "source": [
    "data = change_to_wh(data)\n",
    "data['new_w'], data['new_h'] = np.vectorize(_compute_new_static_size)(data['width'], \n",
    "                                                                      data['height'], min_dimension, max_dimension)\n",
    "data['b_w'] = data['new_w']*data['w']/data['width']\n",
    "data['b_h'] = data['new_h']*data['h']/data['height']\n",
    "data['b_ar'] = data['b_w']/data['b_h']"
   ]
  },
  {
   "cell_type": "markdown",
   "metadata": {},
   "source": [
    "### Calculate the base box size!\n"
   ]
  },
  {
   "cell_type": "code",
   "execution_count": 56,
   "metadata": {},
   "outputs": [
    {
     "data": {
      "image/png": "[encoded data removed]",
      "text/plain": [
       "<Figure size 432x288 with 1 Axes>"
      ]
     },
     "metadata": {
      "needs_background": "light"
     },
     "output_type": "display_data"
    }
   ],
   "source": [
    "def count_base_size(width, height, input_array=[64,96,128,196,212,256,512]):\n",
    "    result = {}\n",
    "    for ele in input_array:\n",
    "        result[str(ele)] = 0\n",
    "    result['rest'] = 0\n",
    "    \n",
    "    import itertools\n",
    "    for w,h in zip(width,height):\n",
    "        done = False\n",
    "        for inp in input_array:\n",
    "            if w <= inp and h <= inp:\n",
    "                result[str(inp)] += 1\n",
    "                done = True\n",
    "        if done == False:\n",
    "            result['rest'] += 1\n",
    "            \n",
    "    return result\n",
    "    \n",
    "D = count_base_size(data[\"b_w\"].tolist(), data[\"b_h\"].tolist())\n",
    "import collections\n",
    "OD = collections.OrderedDict(sorted(D.items()))\n",
    "plt.bar(range(len(OD)), OD.values(), align='center')  # python 2.x\n",
    "plt.xticks(range(len(OD)), OD.keys())  # in python 2.x\n",
    "\n",
    "plt.show()\n"
   ]
  },
  {
   "cell_type": "code",
   "execution_count": 57,
   "metadata": {},
   "outputs": [
    {
     "name": "stdout",
     "output_type": "stream",
     "text": [
      "OrderedDict([('128', 74827), ('196', 80245), ('212', 80801), ('256', 81598), ('512', 81713), ('64', 61851), ('96', 70144), ('rest', 0)])\n"
     ]
    }
   ],
   "source": [
    "print(OD)"
   ]
  },
  {
   "cell_type": "code",
   "execution_count": 58,
   "metadata": {},
   "outputs": [
    {
     "data": {
      "text/html": [
       "<div>\n",
       "<style scoped>\n",
       "    .dataframe tbody tr th:only-of-type {\n",
       "        vertical-align: middle;\n",
       "    }\n",
       "\n",
       "    .dataframe tbody tr th {\n",
       "        vertical-align: top;\n",
       "    }\n",
       "\n",
       "    .dataframe thead th {\n",
       "        text-align: right;\n",
       "    }\n",
       "</style>\n",
       "<table border=\"1\" class=\"dataframe\">\n",
       "  <thead>\n",
       "    <tr style=\"text-align: right;\">\n",
       "      <th></th>\n",
       "      <th>Unnamed: 0.1</th>\n",
       "      <th>Unnamed: 0</th>\n",
       "      <th>width</th>\n",
       "      <th>height</th>\n",
       "      <th>xmin</th>\n",
       "      <th>ymin</th>\n",
       "      <th>xmax</th>\n",
       "      <th>ymax</th>\n",
       "      <th>w</th>\n",
       "      <th>h</th>\n",
       "      <th>new_w</th>\n",
       "      <th>new_h</th>\n",
       "      <th>b_w</th>\n",
       "      <th>b_h</th>\n",
       "      <th>b_ar</th>\n",
       "      <th>b_area_scale</th>\n",
       "    </tr>\n",
       "  </thead>\n",
       "  <tbody>\n",
       "    <tr>\n",
       "      <th>count</th>\n",
       "      <td>81713.000000</td>\n",
       "      <td>81713.000000</td>\n",
       "      <td>81713.0</td>\n",
       "      <td>81713.0</td>\n",
       "      <td>81713.000000</td>\n",
       "      <td>81713.000000</td>\n",
       "      <td>81713.000000</td>\n",
       "      <td>81713.000000</td>\n",
       "      <td>81713.000000</td>\n",
       "      <td>81713.000000</td>\n",
       "      <td>81713.0</td>\n",
       "      <td>81713.0</td>\n",
       "      <td>81713.000000</td>\n",
       "      <td>81713.000000</td>\n",
       "      <td>81713.000000</td>\n",
       "      <td>81713.000000</td>\n",
       "    </tr>\n",
       "    <tr>\n",
       "      <th>mean</th>\n",
       "      <td>115834.929815</td>\n",
       "      <td>115834.929815</td>\n",
       "      <td>768.0</td>\n",
       "      <td>768.0</td>\n",
       "      <td>357.935628</td>\n",
       "      <td>362.691677</td>\n",
       "      <td>409.439502</td>\n",
       "      <td>405.403804</td>\n",
       "      <td>52.503873</td>\n",
       "      <td>43.712127</td>\n",
       "      <td>600.0</td>\n",
       "      <td>600.0</td>\n",
       "      <td>41.018651</td>\n",
       "      <td>34.150099</td>\n",
       "      <td>1.345686</td>\n",
       "      <td>0.177479</td>\n",
       "    </tr>\n",
       "    <tr>\n",
       "      <th>std</th>\n",
       "      <td>66858.754692</td>\n",
       "      <td>66858.754692</td>\n",
       "      <td>0.0</td>\n",
       "      <td>0.0</td>\n",
       "      <td>216.605407</td>\n",
       "      <td>217.775228</td>\n",
       "      <td>216.364008</td>\n",
       "      <td>217.371162</td>\n",
       "      <td>57.055710</td>\n",
       "      <td>45.436130</td>\n",
       "      <td>0.0</td>\n",
       "      <td>0.0</td>\n",
       "      <td>44.574774</td>\n",
       "      <td>35.496976</td>\n",
       "      <td>0.900944</td>\n",
       "      <td>0.172479</td>\n",
       "    </tr>\n",
       "    <tr>\n",
       "      <th>min</th>\n",
       "      <td>2.000000</td>\n",
       "      <td>2.000000</td>\n",
       "      <td>768.0</td>\n",
       "      <td>768.0</td>\n",
       "      <td>0.000000</td>\n",
       "      <td>0.000000</td>\n",
       "      <td>3.000000</td>\n",
       "      <td>3.000000</td>\n",
       "      <td>2.000000</td>\n",
       "      <td>2.000000</td>\n",
       "      <td>600.0</td>\n",
       "      <td>600.0</td>\n",
       "      <td>1.562500</td>\n",
       "      <td>1.562500</td>\n",
       "      <td>0.129032</td>\n",
       "      <td>0.011719</td>\n",
       "    </tr>\n",
       "    <tr>\n",
       "      <th>25%</th>\n",
       "      <td>58237.000000</td>\n",
       "      <td>58237.000000</td>\n",
       "      <td>768.0</td>\n",
       "      <td>768.0</td>\n",
       "      <td>170.000000</td>\n",
       "      <td>174.000000</td>\n",
       "      <td>224.000000</td>\n",
       "      <td>219.000000</td>\n",
       "      <td>14.000000</td>\n",
       "      <td>14.000000</td>\n",
       "      <td>600.0</td>\n",
       "      <td>600.0</td>\n",
       "      <td>10.937500</td>\n",
       "      <td>10.937500</td>\n",
       "      <td>0.750000</td>\n",
       "      <td>0.056607</td>\n",
       "    </tr>\n",
       "    <tr>\n",
       "      <th>50%</th>\n",
       "      <td>115455.000000</td>\n",
       "      <td>115455.000000</td>\n",
       "      <td>768.0</td>\n",
       "      <td>768.0</td>\n",
       "      <td>356.000000</td>\n",
       "      <td>361.000000</td>\n",
       "      <td>411.000000</td>\n",
       "      <td>406.000000</td>\n",
       "      <td>29.000000</td>\n",
       "      <td>26.000000</td>\n",
       "      <td>600.0</td>\n",
       "      <td>600.0</td>\n",
       "      <td>22.656250</td>\n",
       "      <td>20.312500</td>\n",
       "      <td>1.076923</td>\n",
       "      <td>0.113214</td>\n",
       "    </tr>\n",
       "    <tr>\n",
       "      <th>75%</th>\n",
       "      <td>173993.000000</td>\n",
       "      <td>173993.000000</td>\n",
       "      <td>768.0</td>\n",
       "      <td>768.0</td>\n",
       "      <td>542.000000</td>\n",
       "      <td>550.000000</td>\n",
       "      <td>598.000000</td>\n",
       "      <td>595.000000</td>\n",
       "      <td>70.000000</td>\n",
       "      <td>57.000000</td>\n",
       "      <td>600.0</td>\n",
       "      <td>600.0</td>\n",
       "      <td>54.687500</td>\n",
       "      <td>44.531250</td>\n",
       "      <td>1.666667</td>\n",
       "      <td>0.234765</td>\n",
       "    </tr>\n",
       "    <tr>\n",
       "      <th>max</th>\n",
       "      <td>231714.000000</td>\n",
       "      <td>231714.000000</td>\n",
       "      <td>768.0</td>\n",
       "      <td>768.0</td>\n",
       "      <td>765.000000</td>\n",
       "      <td>764.000000</td>\n",
       "      <td>768.000000</td>\n",
       "      <td>768.000000</td>\n",
       "      <td>444.000000</td>\n",
       "      <td>336.000000</td>\n",
       "      <td>600.0</td>\n",
       "      <td>600.0</td>\n",
       "      <td>346.875000</td>\n",
       "      <td>262.500000</td>\n",
       "      <td>9.050000</td>\n",
       "      <td>1.089592</td>\n",
       "    </tr>\n",
       "  </tbody>\n",
       "</table>\n",
       "</div>"
      ],
      "text/plain": [
       "        Unnamed: 0.1     Unnamed: 0    width   height          xmin  \\\n",
       "count   81713.000000   81713.000000  81713.0  81713.0  81713.000000   \n",
       "mean   115834.929815  115834.929815    768.0    768.0    357.935628   \n",
       "std     66858.754692   66858.754692      0.0      0.0    216.605407   \n",
       "min         2.000000       2.000000    768.0    768.0      0.000000   \n",
       "25%     58237.000000   58237.000000    768.0    768.0    170.000000   \n",
       "50%    115455.000000  115455.000000    768.0    768.0    356.000000   \n",
       "75%    173993.000000  173993.000000    768.0    768.0    542.000000   \n",
       "max    231714.000000  231714.000000    768.0    768.0    765.000000   \n",
       "\n",
       "               ymin          xmax          ymax             w             h  \\\n",
       "count  81713.000000  81713.000000  81713.000000  81713.000000  81713.000000   \n",
       "mean     362.691677    409.439502    405.403804     52.503873     43.712127   \n",
       "std      217.775228    216.364008    217.371162     57.055710     45.436130   \n",
       "min        0.000000      3.000000      3.000000      2.000000      2.000000   \n",
       "25%      174.000000    224.000000    219.000000     14.000000     14.000000   \n",
       "50%      361.000000    411.000000    406.000000     29.000000     26.000000   \n",
       "75%      550.000000    598.000000    595.000000     70.000000     57.000000   \n",
       "max      764.000000    768.000000    768.000000    444.000000    336.000000   \n",
       "\n",
       "         new_w    new_h           b_w           b_h          b_ar  \\\n",
       "count  81713.0  81713.0  81713.000000  81713.000000  81713.000000   \n",
       "mean     600.0    600.0     41.018651     34.150099      1.345686   \n",
       "std        0.0      0.0     44.574774     35.496976      0.900944   \n",
       "min      600.0    600.0      1.562500      1.562500      0.129032   \n",
       "25%      600.0    600.0     10.937500     10.937500      0.750000   \n",
       "50%      600.0    600.0     22.656250     20.312500      1.076923   \n",
       "75%      600.0    600.0     54.687500     44.531250      1.666667   \n",
       "max      600.0    600.0    346.875000    262.500000      9.050000   \n",
       "\n",
       "       b_area_scale  \n",
       "count  81713.000000  \n",
       "mean       0.177479  \n",
       "std        0.172479  \n",
       "min        0.011719  \n",
       "25%        0.056607  \n",
       "50%        0.113214  \n",
       "75%        0.234765  \n",
       "max        1.089592  "
      ]
     },
     "execution_count": 58,
     "metadata": {},
     "output_type": "execute_result"
    }
   ],
   "source": [
    "# Area Scale\n",
    "base_box = 256*256\n",
    "data['b_area_scale'] = (data['w']*data['h']/(base_box)).apply(np.sqrt)\n",
    "data.describe()"
   ]
  },
  {
   "cell_type": "code",
   "execution_count": 59,
   "metadata": {},
   "outputs": [
    {
     "data": {
      "text/html": [
       "<div>\n",
       "<style scoped>\n",
       "    .dataframe tbody tr th:only-of-type {\n",
       "        vertical-align: middle;\n",
       "    }\n",
       "\n",
       "    .dataframe tbody tr th {\n",
       "        vertical-align: top;\n",
       "    }\n",
       "\n",
       "    .dataframe thead th {\n",
       "        text-align: right;\n",
       "    }\n",
       "</style>\n",
       "<table border=\"1\" class=\"dataframe\">\n",
       "  <thead>\n",
       "    <tr style=\"text-align: right;\">\n",
       "      <th></th>\n",
       "      <th>Unnamed: 0.1</th>\n",
       "      <th>Unnamed: 0</th>\n",
       "      <th>width</th>\n",
       "      <th>height</th>\n",
       "      <th>xmin</th>\n",
       "      <th>ymin</th>\n",
       "      <th>xmax</th>\n",
       "      <th>ymax</th>\n",
       "      <th>w</th>\n",
       "      <th>h</th>\n",
       "      <th>new_w</th>\n",
       "      <th>new_h</th>\n",
       "      <th>b_w</th>\n",
       "      <th>b_h</th>\n",
       "      <th>b_ar</th>\n",
       "      <th>b_area_scale</th>\n",
       "      <th>tf_scale</th>\n",
       "      <th>tf_scale_2</th>\n",
       "    </tr>\n",
       "  </thead>\n",
       "  <tbody>\n",
       "    <tr>\n",
       "      <th>count</th>\n",
       "      <td>81713.000000</td>\n",
       "      <td>81713.000000</td>\n",
       "      <td>81713.0</td>\n",
       "      <td>81713.0</td>\n",
       "      <td>81713.000000</td>\n",
       "      <td>81713.000000</td>\n",
       "      <td>81713.000000</td>\n",
       "      <td>81713.000000</td>\n",
       "      <td>81713.000000</td>\n",
       "      <td>81713.000000</td>\n",
       "      <td>81713.0</td>\n",
       "      <td>81713.0</td>\n",
       "      <td>81713.000000</td>\n",
       "      <td>81713.000000</td>\n",
       "      <td>81713.000000</td>\n",
       "      <td>81713.000000</td>\n",
       "      <td>81713.000000</td>\n",
       "      <td>81713.000000</td>\n",
       "    </tr>\n",
       "    <tr>\n",
       "      <th>mean</th>\n",
       "      <td>115834.929815</td>\n",
       "      <td>115834.929815</td>\n",
       "      <td>768.0</td>\n",
       "      <td>768.0</td>\n",
       "      <td>357.935628</td>\n",
       "      <td>362.691677</td>\n",
       "      <td>409.439502</td>\n",
       "      <td>405.403804</td>\n",
       "      <td>52.503873</td>\n",
       "      <td>43.712127</td>\n",
       "      <td>600.0</td>\n",
       "      <td>600.0</td>\n",
       "      <td>41.018651</td>\n",
       "      <td>34.150099</td>\n",
       "      <td>1.345686</td>\n",
       "      <td>0.177479</td>\n",
       "      <td>0.138656</td>\n",
       "      <td>0.138656</td>\n",
       "    </tr>\n",
       "    <tr>\n",
       "      <th>std</th>\n",
       "      <td>66858.754692</td>\n",
       "      <td>66858.754692</td>\n",
       "      <td>0.0</td>\n",
       "      <td>0.0</td>\n",
       "      <td>216.605407</td>\n",
       "      <td>217.775228</td>\n",
       "      <td>216.364008</td>\n",
       "      <td>217.371162</td>\n",
       "      <td>57.055710</td>\n",
       "      <td>45.436130</td>\n",
       "      <td>0.0</td>\n",
       "      <td>0.0</td>\n",
       "      <td>44.574774</td>\n",
       "      <td>35.496976</td>\n",
       "      <td>0.900944</td>\n",
       "      <td>0.172479</td>\n",
       "      <td>0.134749</td>\n",
       "      <td>0.134749</td>\n",
       "    </tr>\n",
       "    <tr>\n",
       "      <th>min</th>\n",
       "      <td>2.000000</td>\n",
       "      <td>2.000000</td>\n",
       "      <td>768.0</td>\n",
       "      <td>768.0</td>\n",
       "      <td>0.000000</td>\n",
       "      <td>0.000000</td>\n",
       "      <td>3.000000</td>\n",
       "      <td>3.000000</td>\n",
       "      <td>2.000000</td>\n",
       "      <td>2.000000</td>\n",
       "      <td>600.0</td>\n",
       "      <td>600.0</td>\n",
       "      <td>1.562500</td>\n",
       "      <td>1.562500</td>\n",
       "      <td>0.129032</td>\n",
       "      <td>0.011719</td>\n",
       "      <td>0.009155</td>\n",
       "      <td>0.009155</td>\n",
       "    </tr>\n",
       "    <tr>\n",
       "      <th>25%</th>\n",
       "      <td>58237.000000</td>\n",
       "      <td>58237.000000</td>\n",
       "      <td>768.0</td>\n",
       "      <td>768.0</td>\n",
       "      <td>170.000000</td>\n",
       "      <td>174.000000</td>\n",
       "      <td>224.000000</td>\n",
       "      <td>219.000000</td>\n",
       "      <td>14.000000</td>\n",
       "      <td>14.000000</td>\n",
       "      <td>600.0</td>\n",
       "      <td>600.0</td>\n",
       "      <td>10.937500</td>\n",
       "      <td>10.937500</td>\n",
       "      <td>0.750000</td>\n",
       "      <td>0.056607</td>\n",
       "      <td>0.044224</td>\n",
       "      <td>0.044224</td>\n",
       "    </tr>\n",
       "    <tr>\n",
       "      <th>50%</th>\n",
       "      <td>115455.000000</td>\n",
       "      <td>115455.000000</td>\n",
       "      <td>768.0</td>\n",
       "      <td>768.0</td>\n",
       "      <td>356.000000</td>\n",
       "      <td>361.000000</td>\n",
       "      <td>411.000000</td>\n",
       "      <td>406.000000</td>\n",
       "      <td>29.000000</td>\n",
       "      <td>26.000000</td>\n",
       "      <td>600.0</td>\n",
       "      <td>600.0</td>\n",
       "      <td>22.656250</td>\n",
       "      <td>20.312500</td>\n",
       "      <td>1.076923</td>\n",
       "      <td>0.113214</td>\n",
       "      <td>0.088448</td>\n",
       "      <td>0.088448</td>\n",
       "    </tr>\n",
       "    <tr>\n",
       "      <th>75%</th>\n",
       "      <td>173993.000000</td>\n",
       "      <td>173993.000000</td>\n",
       "      <td>768.0</td>\n",
       "      <td>768.0</td>\n",
       "      <td>542.000000</td>\n",
       "      <td>550.000000</td>\n",
       "      <td>598.000000</td>\n",
       "      <td>595.000000</td>\n",
       "      <td>70.000000</td>\n",
       "      <td>57.000000</td>\n",
       "      <td>600.0</td>\n",
       "      <td>600.0</td>\n",
       "      <td>54.687500</td>\n",
       "      <td>44.531250</td>\n",
       "      <td>1.666667</td>\n",
       "      <td>0.234765</td>\n",
       "      <td>0.183410</td>\n",
       "      <td>0.183410</td>\n",
       "    </tr>\n",
       "    <tr>\n",
       "      <th>max</th>\n",
       "      <td>231714.000000</td>\n",
       "      <td>231714.000000</td>\n",
       "      <td>768.0</td>\n",
       "      <td>768.0</td>\n",
       "      <td>765.000000</td>\n",
       "      <td>764.000000</td>\n",
       "      <td>768.000000</td>\n",
       "      <td>768.000000</td>\n",
       "      <td>444.000000</td>\n",
       "      <td>336.000000</td>\n",
       "      <td>600.0</td>\n",
       "      <td>600.0</td>\n",
       "      <td>346.875000</td>\n",
       "      <td>262.500000</td>\n",
       "      <td>9.050000</td>\n",
       "      <td>1.089592</td>\n",
       "      <td>0.851244</td>\n",
       "      <td>0.851244</td>\n",
       "    </tr>\n",
       "  </tbody>\n",
       "</table>\n",
       "</div>"
      ],
      "text/plain": [
       "        Unnamed: 0.1     Unnamed: 0    width   height          xmin  \\\n",
       "count   81713.000000   81713.000000  81713.0  81713.0  81713.000000   \n",
       "mean   115834.929815  115834.929815    768.0    768.0    357.935628   \n",
       "std     66858.754692   66858.754692      0.0      0.0    216.605407   \n",
       "min         2.000000       2.000000    768.0    768.0      0.000000   \n",
       "25%     58237.000000   58237.000000    768.0    768.0    170.000000   \n",
       "50%    115455.000000  115455.000000    768.0    768.0    356.000000   \n",
       "75%    173993.000000  173993.000000    768.0    768.0    542.000000   \n",
       "max    231714.000000  231714.000000    768.0    768.0    765.000000   \n",
       "\n",
       "               ymin          xmax          ymax             w             h  \\\n",
       "count  81713.000000  81713.000000  81713.000000  81713.000000  81713.000000   \n",
       "mean     362.691677    409.439502    405.403804     52.503873     43.712127   \n",
       "std      217.775228    216.364008    217.371162     57.055710     45.436130   \n",
       "min        0.000000      3.000000      3.000000      2.000000      2.000000   \n",
       "25%      174.000000    224.000000    219.000000     14.000000     14.000000   \n",
       "50%      361.000000    411.000000    406.000000     29.000000     26.000000   \n",
       "75%      550.000000    598.000000    595.000000     70.000000     57.000000   \n",
       "max      764.000000    768.000000    768.000000    444.000000    336.000000   \n",
       "\n",
       "         new_w    new_h           b_w           b_h          b_ar  \\\n",
       "count  81713.0  81713.0  81713.000000  81713.000000  81713.000000   \n",
       "mean     600.0    600.0     41.018651     34.150099      1.345686   \n",
       "std        0.0      0.0     44.574774     35.496976      0.900944   \n",
       "min      600.0    600.0      1.562500      1.562500      0.129032   \n",
       "25%      600.0    600.0     10.937500     10.937500      0.750000   \n",
       "50%      600.0    600.0     22.656250     20.312500      1.076923   \n",
       "75%      600.0    600.0     54.687500     44.531250      1.666667   \n",
       "max      600.0    600.0    346.875000    262.500000      9.050000   \n",
       "\n",
       "       b_area_scale      tf_scale    tf_scale_2  \n",
       "count  81713.000000  81713.000000  81713.000000  \n",
       "mean       0.177479      0.138656      0.138656  \n",
       "std        0.172479      0.134749      0.134749  \n",
       "min        0.011719      0.009155      0.009155  \n",
       "25%        0.056607      0.044224      0.044224  \n",
       "50%        0.113214      0.088448      0.088448  \n",
       "75%        0.234765      0.183410      0.183410  \n",
       "max        1.089592      0.851244      0.851244  "
      ]
     },
     "execution_count": 59,
     "metadata": {},
     "output_type": "execute_result"
    }
   ],
   "source": [
    "# TF scale\n",
    "base_anchor = 256\n",
    "data['tf_scale'] = data['b_h']*(data['b_ar']).apply(np.sqrt)/base_anchor\n",
    "data['tf_scale_2']= data['b_w']/((data['b_ar']).apply(np.sqrt)*base_anchor)\n",
    "data.describe()"
   ]
  },
  {
   "cell_type": "code",
   "execution_count": 60,
   "metadata": {},
   "outputs": [
    {
     "data": {
      "text/plain": [
       "Index(['Unnamed: 0.1', 'Unnamed: 0', 'filename', 'width', 'height', 'class',\n",
       "       'xmin', 'ymin', 'xmax', 'ymax', 'w', 'h', 'new_w', 'new_h', 'b_w',\n",
       "       'b_h', 'b_ar', 'b_area_scale', 'tf_scale', 'tf_scale_2'],\n",
       "      dtype='object')"
      ]
     },
     "execution_count": 60,
     "metadata": {},
     "output_type": "execute_result"
    }
   ],
   "source": [
    "data.columns"
   ]
  },
  {
   "cell_type": "markdown",
   "metadata": {},
   "source": [
    "## Clusterring\n",
    "\n",
    "### Eucledian Distance Based Clusterring\n",
    "\n",
    "### One by One (AR and Scale Separately)"
   ]
  },
  {
   "cell_type": "code",
   "execution_count": 61,
   "metadata": {},
   "outputs": [
    {
     "data": {
      "text/plain": [
       "[<matplotlib.lines.Line2D at 0x7fc90399d700>]"
      ]
     },
     "execution_count": 61,
     "metadata": {},
     "output_type": "execute_result"
    },
    {
     "data": {
      "image/png": "[encoded data removed]",
      "text/plain": [
       "<Figure size 432x288 with 1 Axes>"
      ]
     },
     "metadata": {
      "needs_background": "light"
     },
     "output_type": "display_data"
    }
   ],
   "source": [
    "# Aspect Ratio\n",
    "X = data.iloc[:,14].values\n",
    "X = X.reshape(-1,1)\n",
    "\n",
    "\n",
    "loss = []\n",
    "from sklearn.cluster import KMeans\n",
    "for i in range(2,10):\n",
    "    K = KMeans(i, random_state=1)\n",
    "    labels = K.fit(X)\n",
    "    loss.append(labels.inertia_)\n",
    "\n",
    "plt.plot(loss)"
   ]
  },
  {
   "cell_type": "code",
   "execution_count": 62,
   "metadata": {},
   "outputs": [
    {
     "name": "stdout",
     "output_type": "stream",
     "text": [
      "b_w\n",
      "Aspect Ratios:\n",
      "\n",
      "[[ 16.6904804 ]\n",
      " [155.27530665]\n",
      " [ 65.13175535]]\n"
     ]
    }
   ],
   "source": [
    "print(data.columns[14])\n",
    "\n",
    "from sklearn.cluster import KMeans\n",
    "K = KMeans(3, random_state=1)\n",
    "labels = K.fit(X)\n",
    "print(\"Aspect Ratios:\\n\")\n",
    "print(labels.cluster_centers_)"
   ]
  },
  {
   "cell_type": "code",
   "execution_count": 63,
   "metadata": {},
   "outputs": [
    {
     "data": {
      "text/plain": [
       "0.9999999999999999"
      ]
     },
     "execution_count": 63,
     "metadata": {},
     "output_type": "execute_result"
    }
   ],
   "source": [
    "# Correlation Check (ignore!)\n",
    "\n",
    "x = data['w']/data['h']\n",
    "\n",
    "data['b_ar'].corr(x)"
   ]
  },
  {
   "cell_type": "code",
   "execution_count": 64,
   "metadata": {},
   "outputs": [
    {
     "data": {
      "text/plain": [
       "[<matplotlib.lines.Line2D at 0x7fc903c21e20>]"
      ]
     },
     "execution_count": 64,
     "metadata": {},
     "output_type": "execute_result"
    },
    {
     "data": {
      "image/png": "[encoded data removed]",
      "text/plain": [
       "<Figure size 432x288 with 1 Axes>"
      ]
     },
     "metadata": {
      "needs_background": "light"
     },
     "output_type": "display_data"
    }
   ],
   "source": [
    "# TF_Scale Clusterring\n",
    "X = data.iloc[:,16].values\n",
    "X = X.reshape(-1,1)\n",
    "\n",
    "\n",
    "loss = []\n",
    "from sklearn.cluster import KMeans\n",
    "for i in range(2,10):\n",
    "    K = KMeans(i, random_state=1)\n",
    "    labels = K.fit(X)\n",
    "    loss.append(labels.inertia_)\n",
    "\n",
    "plt.plot(loss)"
   ]
  },
  {
   "cell_type": "code",
   "execution_count": 65,
   "metadata": {},
   "outputs": [
    {
     "name": "stdout",
     "output_type": "stream",
     "text": [
      "Index(['Unnamed: 0.1', 'Unnamed: 0', 'filename', 'width', 'height', 'class',\n",
      "       'xmin', 'ymin', 'xmax', 'ymax', 'w', 'h', 'new_w', 'new_h', 'b_w',\n",
      "       'b_h', 'b_ar', 'b_area_scale', 'tf_scale', 'tf_scale_2'],\n",
      "      dtype='object')\n",
      "b_ar\n"
     ]
    },
    {
     "data": {
      "text/plain": [
       "array([[1.34568587]])"
      ]
     },
     "execution_count": 65,
     "metadata": {},
     "output_type": "execute_result"
    }
   ],
   "source": [
    "print(data.columns)\n",
    "print(data.columns[16])\n",
    "\n",
    "from sklearn.cluster import KMeans\n",
    "K = KMeans(1, random_state=1)\n",
    "labels = K.fit(X)\n",
    "labels.cluster_centers_"
   ]
  },
  {
   "cell_type": "code",
   "execution_count": 66,
   "metadata": {},
   "outputs": [
    {
     "data": {
      "text/plain": [
       "[<matplotlib.lines.Line2D at 0x7fc903e66a60>]"
      ]
     },
     "execution_count": 66,
     "metadata": {},
     "output_type": "execute_result"
    },
    {
     "data": {
      "image/png": "[encoded data removed]",
      "text/plain": [
       "<Figure size 432x288 with 1 Axes>"
      ]
     },
     "metadata": {
      "needs_background": "light"
     },
     "output_type": "display_data"
    }
   ],
   "source": [
    "# area_Scale\n",
    "X = data.iloc[:,15].values\n",
    "X = X.reshape(-1,1)\n",
    "\n",
    "\n",
    "loss = []\n",
    "from sklearn.cluster import KMeans\n",
    "for i in range(2,10):\n",
    "    K = KMeans(i, random_state=1)\n",
    "    labels = K.fit(X)\n",
    "    loss.append(labels.inertia_)\n",
    "\n",
    "plt.plot(loss)"
   ]
  },
  {
   "cell_type": "code",
   "execution_count": 67,
   "metadata": {},
   "outputs": [
    {
     "name": "stdout",
     "output_type": "stream",
     "text": [
      "b_h\n"
     ]
    },
    {
     "data": {
      "text/plain": [
       "array([[ 44.46771578],\n",
       "       [158.03061548],\n",
       "       [ 13.87787074],\n",
       "       [ 87.72747872]])"
      ]
     },
     "execution_count": 67,
     "metadata": {},
     "output_type": "execute_result"
    }
   ],
   "source": [
    "print(data.columns[15])\n",
    "\n",
    "from sklearn.cluster import KMeans\n",
    "K = KMeans(4, random_state=1)\n",
    "labels = K.fit(X)\n",
    "labels.cluster_centers_"
   ]
  },
  {
   "cell_type": "markdown",
   "metadata": {},
   "source": [
    "### IOU based clusterring"
   ]
  },
  {
   "cell_type": "code",
   "execution_count": 68,
   "metadata": {},
   "outputs": [],
   "source": [
    "#utility functions for K-means\n",
    "import numpy as np\n",
    "\n",
    "\n",
    "def iou(box, clusters):\n",
    "    \"\"\"\n",
    "    Calculates the Intersection over Union (IoU) between a box and k clusters.\n",
    "    :param box: tuple or array, shifted to the origin (i. e. width and height)\n",
    "    :param clusters: numpy array of shape (k, 2) where k is the number of clusters\n",
    "    :return: numpy array of shape (k, 0) where k is the number of clusters\n",
    "    \"\"\"\n",
    "    x = np.minimum(clusters[:, 0], box[0])\n",
    "    y = np.minimum(clusters[:, 1], box[1])\n",
    "    if np.count_nonzero(x == 0) > 0 or np.count_nonzero(y == 0) > 0:\n",
    "        raise ValueError(\"Box has no area\")\n",
    "\n",
    "    intersection = x * y\n",
    "    box_area = box[0] * box[1]\n",
    "    cluster_area = clusters[:, 0] * clusters[:, 1]\n",
    "\n",
    "    iou_ = intersection / (box_area + cluster_area - intersection)\n",
    "\n",
    "    return iou_\n",
    "\n",
    "\n",
    "def avg_iou(boxes, clusters):\n",
    "    \"\"\"\n",
    "    Calculates the average Intersection over Union (IoU) between a numpy array of boxes and k clusters.\n",
    "    :param boxes: numpy array of shape (r, 2), where r is the number of rows\n",
    "    :param clusters: numpy array of shape (k, 2) where k is the number of clusters\n",
    "    :return: average IoU as a single float\n",
    "    \"\"\"\n",
    "    return np.mean([np.max(iou(boxes[i], clusters)) for i in range(boxes.shape[0])])\n",
    "\n",
    "\n",
    "def translate_boxes(boxes):\n",
    "    \"\"\"\n",
    "    Translates all the boxes to the origin.\n",
    "    :param boxes: numpy array of shape (r, 4)\n",
    "    :return: numpy array of shape (r, 2)\n",
    "    \"\"\"\n",
    "    new_boxes = boxes.copy()\n",
    "    for row in range(new_boxes.shape[0]):\n",
    "        new_boxes[row][2] = np.abs(new_boxes[row][2] - new_boxes[row][0])\n",
    "        new_boxes[row][3] = np.abs(new_boxes[row][3] - new_boxes[row][1])\n",
    "    return np.delete(new_boxes, [0, 1], axis=1)\n",
    "\n",
    "\n",
    "def kmeans(boxes, k, dist=np.median):\n",
    "    \"\"\"\n",
    "    Calculates k-means clustering with the Intersection over Union (IoU) metric.\n",
    "    :param boxes: numpy array of shape (r, 2), where r is the number of rows\n",
    "    :param k: number of clusters\n",
    "    :param dist: distance function\n",
    "    :return: numpy array of shape (k, 2)\n",
    "    \"\"\"\n",
    "    rows = boxes.shape[0]\n",
    "\n",
    "    distances = np.empty((rows, k))\n",
    "    last_clusters = np.zeros((rows,))\n",
    "\n",
    "    np.random.seed()\n",
    "\n",
    "    # the Forgy method will fail if the whole array contains the same rows\n",
    "    clusters = boxes[np.random.choice(rows, k, replace=False)]\n",
    "\n",
    "    while True:\n",
    "        for row in range(rows):\n",
    "            distances[row] = 1 - iou(boxes[row], clusters)\n",
    "\n",
    "        nearest_clusters = np.argmin(distances, axis=1)\n",
    "\n",
    "        if (last_clusters == nearest_clusters).all():\n",
    "            break\n",
    "\n",
    "        for cluster in range(k):\n",
    "            clusters[cluster] = dist(boxes[nearest_clusters == cluster], axis=0)\n",
    "\n",
    "        last_clusters = nearest_clusters\n",
    "\n",
    "    return clusters"
   ]
  },
  {
   "cell_type": "code",
   "execution_count": 69,
   "metadata": {
    "scrolled": true
   },
   "outputs": [
    {
     "name": "stdout",
     "output_type": "stream",
     "text": [
      "Index(['new_w', 'new_h'], dtype='object')\n",
      "[[600 600]\n",
      " [600 600]\n",
      " [600 600]\n",
      " [600 600]]\n"
     ]
    }
   ],
   "source": [
    "print(data.columns[12:14])\n",
    "\n",
    "X = data.iloc[:, 12:14].values\n",
    "\n",
    "\n",
    "# Cluster with 4 centers\n",
    "cl = kmeans(X, 4)\n",
    "print(cl)"
   ]
  },
  {
   "cell_type": "code",
   "execution_count": 70,
   "metadata": {},
   "outputs": [
    {
     "name": "stdout",
     "output_type": "stream",
     "text": [
      "[1. 1. 1. 1.]\n",
      "[2.34375 2.34375 2.34375 2.34375]\n"
     ]
    }
   ],
   "source": [
    "ar_iou = cl[:,0]/cl[:,1]\n",
    "\n",
    "print(ar_iou)\n",
    "\n",
    "\n",
    "scale_iou = cl[:,1]*np.sqrt(ar_iou)/256\n",
    "print(scale_iou)"
   ]
  },
  {
   "cell_type": "code",
   "execution_count": null,
   "metadata": {},
   "outputs": [],
   "source": []
  },
  {
   "cell_type": "code",
   "execution_count": null,
   "metadata": {},
   "outputs": [],
   "source": []
  },
  {
   "cell_type": "code",
   "execution_count": null,
   "metadata": {},
   "outputs": [],
   "source": []
  },
  {
   "cell_type": "code",
   "execution_count": null,
   "metadata": {},
   "outputs": [],
   "source": []
  }
 ],
 "metadata": {
  "kernelspec": {
   "display_name": "Python 3 (ipykernel)",
   "language": "python",
   "name": "python3"
  },
  "language_info": {
   "codemirror_mode": {
    "name": "ipython",
    "version": 3
   },
   "file_extension": ".py",
   "mimetype": "text/x-python",
   "name": "python",
   "nbconvert_exporter": "python",
   "pygments_lexer": "ipython3",
   "version": "3.8.10"
  }
 },
 "nbformat": 4,
 "nbformat_minor": 2
}
