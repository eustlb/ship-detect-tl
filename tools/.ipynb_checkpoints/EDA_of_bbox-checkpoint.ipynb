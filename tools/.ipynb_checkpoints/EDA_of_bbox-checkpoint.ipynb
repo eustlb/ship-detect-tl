{
 "cells": [
  {
   "cell_type": "markdown",
   "metadata": {},
   "source": [
    "# Anchor Boxes Analysis using K-Means"
   ]
  },
  {
   "cell_type": "markdown",
   "metadata": {},
   "source": [
    "### Section 1"
   ]
  },
  {
   "cell_type": "code",
   "execution_count": 3,
   "metadata": {},
   "outputs": [],
   "source": [
    "import pandas as pd\n",
    "import numpy as np\n",
    "import matplotlib.pyplot as plt\n",
    "import math\n",
    "import seaborn as sns\n",
    "%matplotlib inline\n",
    "import os\n",
    "import cv2\n",
    "\n",
    "import warnings\n",
    "warnings.filterwarnings('ignore')"
   ]
  },
  {
   "cell_type": "markdown",
   "metadata": {},
   "source": [
    "### with Image resizing (correct way!)\n",
    "\n",
    "#### Read csv\n",
    "A csv was made from xml file using \"xml_to_csv.py\""
   ]
  },
  {
   "cell_type": "code",
   "execution_count": 4,
   "metadata": {},
   "outputs": [],
   "source": [
    "#Read the dataset\n",
    "data = pd.read_csv('/tf/ship_data/train_ship_segmentations_OD.csv')\n",
    "\n",
    "#utility function to get width & height\n",
    "def change_to_wh (data):\n",
    "    data['w'] = data['xmax'] - data['xmin'] + 1\n",
    "    data['h'] = data['ymax'] - data['ymin'] + 1\n",
    "    return data\n",
    "\n",
    "min_dimension = 600\n",
    "max_dimension = 1024\n",
    "\n",
    "# function from Tensorflow Object Detection API to resize image\n",
    "def _compute_new_static_size(width, height, min_dimension, max_dimension):\n",
    "    orig_height = height\n",
    "    orig_width = width\n",
    "    orig_min_dim = min(orig_height, orig_width)\n",
    "  \n",
    "    # Calculates the larger of the possible sizes\n",
    "    large_scale_factor = min_dimension / float(orig_min_dim)\n",
    "      # Scaling orig_(height|width) by large_scale_factor will make the smaller\n",
    "      # dimension equal to min_dimension, save for floating point rounding errors.\n",
    "      # For reasonably-sized images, taking the nearest integer will reliably\n",
    "      # eliminate this error.\n",
    "    large_height = int(round(orig_height * large_scale_factor))\n",
    "    large_width = int(round(orig_width * large_scale_factor))\n",
    "    large_size = [large_height, large_width]\n",
    "    if max_dimension:\n",
    "    # Calculates the smaller of the possible sizes, use that if the larger\n",
    "    # is too big.\n",
    "        orig_max_dim = max(orig_height, orig_width)\n",
    "        small_scale_factor = max_dimension / float(orig_max_dim)\n",
    "    # Scaling orig_(height|width) by small_scale_factor will make the larger\n",
    "    # dimension equal to max_dimension, save for floating point rounding\n",
    "    # errors. For reasonably-sized images, taking the nearest integer will\n",
    "    # reliably eliminate this error.\n",
    "        small_height = int(round(orig_height * small_scale_factor))\n",
    "        small_width = int(round(orig_width * small_scale_factor))\n",
    "        small_size = [small_height, small_width]\n",
    "        new_size = large_size\n",
    "    if max(large_size) > max_dimension:\n",
    "        new_size = small_size\n",
    "    else:\n",
    "        new_size = large_size\n",
    "    \n",
    "    return new_size[1], new_size[0]\n",
    "\n",
    "\n",
    "\n",
    "\n",
    "\n"
   ]
  },
  {
   "cell_type": "code",
   "execution_count": 4,
   "metadata": {},
   "outputs": [
    {
     "data": {
      "text/html": [
       "<div>\n",
       "<style scoped>\n",
       "    .dataframe tbody tr th:only-of-type {\n",
       "        vertical-align: middle;\n",
       "    }\n",
       "\n",
       "    .dataframe tbody tr th {\n",
       "        vertical-align: top;\n",
       "    }\n",
       "\n",
       "    .dataframe thead th {\n",
       "        text-align: right;\n",
       "    }\n",
       "</style>\n",
       "<table border=\"1\" class=\"dataframe\">\n",
       "  <thead>\n",
       "    <tr style=\"text-align: right;\">\n",
       "      <th></th>\n",
       "      <th>width</th>\n",
       "      <th>height</th>\n",
       "      <th>xmin</th>\n",
       "      <th>ymin</th>\n",
       "      <th>xmax</th>\n",
       "      <th>ymax</th>\n",
       "    </tr>\n",
       "  </thead>\n",
       "  <tbody>\n",
       "    <tr>\n",
       "      <th>count</th>\n",
       "      <td>527.000000</td>\n",
       "      <td>527.000000</td>\n",
       "      <td>527.000000</td>\n",
       "      <td>527.000000</td>\n",
       "      <td>527.000000</td>\n",
       "      <td>527.000000</td>\n",
       "    </tr>\n",
       "    <tr>\n",
       "      <th>mean</th>\n",
       "      <td>480.182163</td>\n",
       "      <td>508.952562</td>\n",
       "      <td>161.091082</td>\n",
       "      <td>169.635674</td>\n",
       "      <td>308.554080</td>\n",
       "      <td>357.265655</td>\n",
       "    </tr>\n",
       "    <tr>\n",
       "      <th>std</th>\n",
       "      <td>221.004063</td>\n",
       "      <td>22.680363</td>\n",
       "      <td>131.068885</td>\n",
       "      <td>87.936224</td>\n",
       "      <td>146.202463</td>\n",
       "      <td>92.654976</td>\n",
       "    </tr>\n",
       "    <tr>\n",
       "      <th>min</th>\n",
       "      <td>378.000000</td>\n",
       "      <td>270.000000</td>\n",
       "      <td>1.000000</td>\n",
       "      <td>1.000000</td>\n",
       "      <td>56.000000</td>\n",
       "      <td>93.000000</td>\n",
       "    </tr>\n",
       "    <tr>\n",
       "      <th>25%</th>\n",
       "      <td>378.000000</td>\n",
       "      <td>504.000000</td>\n",
       "      <td>69.000000</td>\n",
       "      <td>104.500000</td>\n",
       "      <td>206.500000</td>\n",
       "      <td>287.500000</td>\n",
       "    </tr>\n",
       "    <tr>\n",
       "      <th>50%</th>\n",
       "      <td>378.000000</td>\n",
       "      <td>504.000000</td>\n",
       "      <td>124.000000</td>\n",
       "      <td>172.000000</td>\n",
       "      <td>279.000000</td>\n",
       "      <td>372.000000</td>\n",
       "    </tr>\n",
       "    <tr>\n",
       "      <th>75%</th>\n",
       "      <td>378.000000</td>\n",
       "      <td>504.000000</td>\n",
       "      <td>208.000000</td>\n",
       "      <td>234.000000</td>\n",
       "      <td>346.500000</td>\n",
       "      <td>424.500000</td>\n",
       "    </tr>\n",
       "    <tr>\n",
       "      <th>max</th>\n",
       "      <td>960.000000</td>\n",
       "      <td>540.000000</td>\n",
       "      <td>749.000000</td>\n",
       "      <td>443.000000</td>\n",
       "      <td>928.000000</td>\n",
       "      <td>540.000000</td>\n",
       "    </tr>\n",
       "  </tbody>\n",
       "</table>\n",
       "</div>"
      ],
      "text/plain": [
       "            width      height        xmin        ymin        xmax        ymax\n",
       "count  527.000000  527.000000  527.000000  527.000000  527.000000  527.000000\n",
       "mean   480.182163  508.952562  161.091082  169.635674  308.554080  357.265655\n",
       "std    221.004063   22.680363  131.068885   87.936224  146.202463   92.654976\n",
       "min    378.000000  270.000000    1.000000    1.000000   56.000000   93.000000\n",
       "25%    378.000000  504.000000   69.000000  104.500000  206.500000  287.500000\n",
       "50%    378.000000  504.000000  124.000000  172.000000  279.000000  372.000000\n",
       "75%    378.000000  504.000000  208.000000  234.000000  346.500000  424.500000\n",
       "max    960.000000  540.000000  749.000000  443.000000  928.000000  540.000000"
      ]
     },
     "execution_count": 4,
     "metadata": {},
     "output_type": "execute_result"
    }
   ],
   "source": [
    "# Initial Data\n",
    "data.describe()"
   ]
  },
  {
   "cell_type": "code",
   "execution_count": 5,
   "metadata": {},
   "outputs": [],
   "source": [
    "data = change_to_wh(data)\n",
    "data['new_w'], data['new_h'] = np.vectorize(_compute_new_static_size)(data['width'], \n",
    "                                                                      data['height'], min_dimension, max_dimension)\n",
    "data['b_w'] = data['new_w']*data['w']/data['width']\n",
    "data['b_h'] = data['new_h']*data['h']/data['height']\n",
    "data['b_ar'] = data['b_w']/data['b_h']"
   ]
  },
  {
   "cell_type": "code",
   "execution_count": 6,
   "metadata": {},
   "outputs": [
    {
     "data": {
      "text/plain": [
       "<seaborn.axisgrid.JointGrid at 0x7f627ca71fd0>"
      ]
     },
     "execution_count": 6,
     "metadata": {},
     "output_type": "execute_result"
    },
    {
     "data": {
      "image/png": "[encoded data removed]",
      "text/plain": [
       "<Figure size 432x432 with 3 Axes>"
      ]
     },
     "metadata": {},
     "output_type": "display_data"
    },
    {
     "data": {
      "image/png": "[encoded data removed]",
      "text/plain": [
       "<Figure size 432x432 with 3 Axes>"
      ]
     },
     "metadata": {},
     "output_type": "display_data"
    }
   ],
   "source": [
    "#Joint Plot of b_w and b_h\n",
    "sns.jointplot(x=\"b_w\", y=\"b_h\", data=data)\n",
    "sns.jointplot(x=\"b_w\", y=\"b_h\", data=data, kind='kde')"
   ]
  },
  {
   "cell_type": "markdown",
   "metadata": {},
   "source": [
    "### Calculate the base box size!\n"
   ]
  },
  {
   "cell_type": "code",
   "execution_count": 7,
   "metadata": {},
   "outputs": [
    {
     "data": {
      "image/png": "[encoded data removed]",
      "text/plain": [
       "<Figure size 432x288 with 1 Axes>"
      ]
     },
     "metadata": {},
     "output_type": "display_data"
    }
   ],
   "source": [
    "def count_base_size(width, height, input_array=[64,96,128,196,212,256,512]):\n",
    "    result = {}\n",
    "    for ele in input_array:\n",
    "        result[str(ele)] = 0\n",
    "    result['rest'] = 0\n",
    "    \n",
    "    import itertools\n",
    "    for w,h in itertools.izip(width,height):\n",
    "        done = False\n",
    "        for inp in input_array:\n",
    "            if w <= inp and h <= inp:\n",
    "                result[str(inp)] += 1\n",
    "                done = True\n",
    "        if done == False:\n",
    "            result['rest'] += 1\n",
    "            \n",
    "    return result\n",
    "    \n",
    "D = count_base_size(data[\"b_w\"].tolist(), data[\"b_h\"].tolist())\n",
    "import collections\n",
    "OD = collections.OrderedDict(sorted(D.items()))\n",
    "plt.bar(range(len(OD)), OD.values(), align='center')  # python 2.x\n",
    "plt.xticks(range(len(OD)), OD.keys())  # in python 2.x\n",
    "\n",
    "plt.show()\n"
   ]
  },
  {
   "cell_type": "code",
   "execution_count": 8,
   "metadata": {},
   "outputs": [
    {
     "name": "stdout",
     "output_type": "stream",
     "text": [
      "OrderedDict([('128', 1), ('196', 41), ('212', 78), ('256', 212), ('512', 524), ('64', 0), ('96', 0), ('rest', 3)])\n"
     ]
    }
   ],
   "source": [
    "print OD"
   ]
  },
  {
   "cell_type": "code",
   "execution_count": 9,
   "metadata": {},
   "outputs": [
    {
     "data": {
      "text/html": [
       "<div>\n",
       "<style scoped>\n",
       "    .dataframe tbody tr th:only-of-type {\n",
       "        vertical-align: middle;\n",
       "    }\n",
       "\n",
       "    .dataframe tbody tr th {\n",
       "        vertical-align: top;\n",
       "    }\n",
       "\n",
       "    .dataframe thead th {\n",
       "        text-align: right;\n",
       "    }\n",
       "</style>\n",
       "<table border=\"1\" class=\"dataframe\">\n",
       "  <thead>\n",
       "    <tr style=\"text-align: right;\">\n",
       "      <th></th>\n",
       "      <th>width</th>\n",
       "      <th>height</th>\n",
       "      <th>xmin</th>\n",
       "      <th>ymin</th>\n",
       "      <th>xmax</th>\n",
       "      <th>ymax</th>\n",
       "      <th>w</th>\n",
       "      <th>h</th>\n",
       "      <th>new_w</th>\n",
       "      <th>new_h</th>\n",
       "      <th>b_w</th>\n",
       "      <th>b_h</th>\n",
       "      <th>b_ar</th>\n",
       "      <th>b_area_scale</th>\n",
       "    </tr>\n",
       "  </thead>\n",
       "  <tbody>\n",
       "    <tr>\n",
       "      <th>count</th>\n",
       "      <td>527.000000</td>\n",
       "      <td>527.000000</td>\n",
       "      <td>527.000000</td>\n",
       "      <td>527.000000</td>\n",
       "      <td>527.000000</td>\n",
       "      <td>527.000000</td>\n",
       "      <td>527.000000</td>\n",
       "      <td>527.000000</td>\n",
       "      <td>527.000000</td>\n",
       "      <td>527.000000</td>\n",
       "      <td>527.000000</td>\n",
       "      <td>527.000000</td>\n",
       "      <td>527.000000</td>\n",
       "      <td>527.000000</td>\n",
       "    </tr>\n",
       "    <tr>\n",
       "      <th>mean</th>\n",
       "      <td>480.182163</td>\n",
       "      <td>508.952562</td>\n",
       "      <td>161.091082</td>\n",
       "      <td>169.635674</td>\n",
       "      <td>308.554080</td>\n",
       "      <td>357.265655</td>\n",
       "      <td>148.462998</td>\n",
       "      <td>188.629981</td>\n",
       "      <td>676.432638</td>\n",
       "      <td>759.620493</td>\n",
       "      <td>218.338942</td>\n",
       "      <td>277.058739</td>\n",
       "      <td>0.824470</td>\n",
       "      <td>0.647652</td>\n",
       "    </tr>\n",
       "    <tr>\n",
       "      <th>std</th>\n",
       "      <td>221.004063</td>\n",
       "      <td>22.680363</td>\n",
       "      <td>131.068885</td>\n",
       "      <td>87.936224</td>\n",
       "      <td>146.202463</td>\n",
       "      <td>92.654976</td>\n",
       "      <td>44.945532</td>\n",
       "      <td>57.973884</td>\n",
       "      <td>163.144093</td>\n",
       "      <td>86.189332</td>\n",
       "      <td>61.497894</td>\n",
       "      <td>78.634511</td>\n",
       "      <td>0.259569</td>\n",
       "      <td>0.184465</td>\n",
       "    </tr>\n",
       "    <tr>\n",
       "      <th>min</th>\n",
       "      <td>378.000000</td>\n",
       "      <td>270.000000</td>\n",
       "      <td>1.000000</td>\n",
       "      <td>1.000000</td>\n",
       "      <td>56.000000</td>\n",
       "      <td>93.000000</td>\n",
       "      <td>43.000000</td>\n",
       "      <td>60.000000</td>\n",
       "      <td>600.000000</td>\n",
       "      <td>576.000000</td>\n",
       "      <td>68.253968</td>\n",
       "      <td>95.238095</td>\n",
       "      <td>0.296137</td>\n",
       "      <td>0.281223</td>\n",
       "    </tr>\n",
       "    <tr>\n",
       "      <th>25%</th>\n",
       "      <td>378.000000</td>\n",
       "      <td>504.000000</td>\n",
       "      <td>69.000000</td>\n",
       "      <td>104.500000</td>\n",
       "      <td>206.500000</td>\n",
       "      <td>287.500000</td>\n",
       "      <td>115.000000</td>\n",
       "      <td>143.500000</td>\n",
       "      <td>600.000000</td>\n",
       "      <td>800.000000</td>\n",
       "      <td>177.955556</td>\n",
       "      <td>224.603175</td>\n",
       "      <td>0.724282</td>\n",
       "      <td>0.515099</td>\n",
       "    </tr>\n",
       "    <tr>\n",
       "      <th>50%</th>\n",
       "      <td>378.000000</td>\n",
       "      <td>504.000000</td>\n",
       "      <td>124.000000</td>\n",
       "      <td>172.000000</td>\n",
       "      <td>279.000000</td>\n",
       "      <td>372.000000</td>\n",
       "      <td>149.000000</td>\n",
       "      <td>188.000000</td>\n",
       "      <td>600.000000</td>\n",
       "      <td>800.000000</td>\n",
       "      <td>210.133333</td>\n",
       "      <td>266.666667</td>\n",
       "      <td>0.773869</td>\n",
       "      <td>0.617138</td>\n",
       "    </tr>\n",
       "    <tr>\n",
       "      <th>75%</th>\n",
       "      <td>378.000000</td>\n",
       "      <td>504.000000</td>\n",
       "      <td>208.000000</td>\n",
       "      <td>234.000000</td>\n",
       "      <td>346.500000</td>\n",
       "      <td>424.500000</td>\n",
       "      <td>176.000000</td>\n",
       "      <td>231.000000</td>\n",
       "      <td>600.000000</td>\n",
       "      <td>800.000000</td>\n",
       "      <td>255.555556</td>\n",
       "      <td>323.015873</td>\n",
       "      <td>0.889113</td>\n",
       "      <td>0.773383</td>\n",
       "    </tr>\n",
       "    <tr>\n",
       "      <th>max</th>\n",
       "      <td>960.000000</td>\n",
       "      <td>540.000000</td>\n",
       "      <td>749.000000</td>\n",
       "      <td>443.000000</td>\n",
       "      <td>928.000000</td>\n",
       "      <td>540.000000</td>\n",
       "      <td>315.000000</td>\n",
       "      <td>352.000000</td>\n",
       "      <td>1024.000000</td>\n",
       "      <td>800.000000</td>\n",
       "      <td>441.269841</td>\n",
       "      <td>558.730159</td>\n",
       "      <td>2.822581</td>\n",
       "      <td>1.291457</td>\n",
       "    </tr>\n",
       "  </tbody>\n",
       "</table>\n",
       "</div>"
      ],
      "text/plain": [
       "            width      height        xmin        ymin        xmax        ymax  \\\n",
       "count  527.000000  527.000000  527.000000  527.000000  527.000000  527.000000   \n",
       "mean   480.182163  508.952562  161.091082  169.635674  308.554080  357.265655   \n",
       "std    221.004063   22.680363  131.068885   87.936224  146.202463   92.654976   \n",
       "min    378.000000  270.000000    1.000000    1.000000   56.000000   93.000000   \n",
       "25%    378.000000  504.000000   69.000000  104.500000  206.500000  287.500000   \n",
       "50%    378.000000  504.000000  124.000000  172.000000  279.000000  372.000000   \n",
       "75%    378.000000  504.000000  208.000000  234.000000  346.500000  424.500000   \n",
       "max    960.000000  540.000000  749.000000  443.000000  928.000000  540.000000   \n",
       "\n",
       "                w           h        new_w       new_h         b_w  \\\n",
       "count  527.000000  527.000000   527.000000  527.000000  527.000000   \n",
       "mean   148.462998  188.629981   676.432638  759.620493  218.338942   \n",
       "std     44.945532   57.973884   163.144093   86.189332   61.497894   \n",
       "min     43.000000   60.000000   600.000000  576.000000   68.253968   \n",
       "25%    115.000000  143.500000   600.000000  800.000000  177.955556   \n",
       "50%    149.000000  188.000000   600.000000  800.000000  210.133333   \n",
       "75%    176.000000  231.000000   600.000000  800.000000  255.555556   \n",
       "max    315.000000  352.000000  1024.000000  800.000000  441.269841   \n",
       "\n",
       "              b_h        b_ar  b_area_scale  \n",
       "count  527.000000  527.000000    527.000000  \n",
       "mean   277.058739    0.824470      0.647652  \n",
       "std     78.634511    0.259569      0.184465  \n",
       "min     95.238095    0.296137      0.281223  \n",
       "25%    224.603175    0.724282      0.515099  \n",
       "50%    266.666667    0.773869      0.617138  \n",
       "75%    323.015873    0.889113      0.773383  \n",
       "max    558.730159    2.822581      1.291457  "
      ]
     },
     "execution_count": 9,
     "metadata": {},
     "output_type": "execute_result"
    }
   ],
   "source": [
    "# Area Scale\n",
    "base_box = 256*256\n",
    "data['b_area_scale'] = (data['w']*data['h']/(base_box)).apply(np.sqrt)\n",
    "data.describe()"
   ]
  },
  {
   "cell_type": "code",
   "execution_count": 10,
   "metadata": {},
   "outputs": [
    {
     "data": {
      "text/html": [
       "<div>\n",
       "<style scoped>\n",
       "    .dataframe tbody tr th:only-of-type {\n",
       "        vertical-align: middle;\n",
       "    }\n",
       "\n",
       "    .dataframe tbody tr th {\n",
       "        vertical-align: top;\n",
       "    }\n",
       "\n",
       "    .dataframe thead th {\n",
       "        text-align: right;\n",
       "    }\n",
       "</style>\n",
       "<table border=\"1\" class=\"dataframe\">\n",
       "  <thead>\n",
       "    <tr style=\"text-align: right;\">\n",
       "      <th></th>\n",
       "      <th>width</th>\n",
       "      <th>height</th>\n",
       "      <th>xmin</th>\n",
       "      <th>ymin</th>\n",
       "      <th>xmax</th>\n",
       "      <th>ymax</th>\n",
       "      <th>w</th>\n",
       "      <th>h</th>\n",
       "      <th>new_w</th>\n",
       "      <th>new_h</th>\n",
       "      <th>b_w</th>\n",
       "      <th>b_h</th>\n",
       "      <th>b_ar</th>\n",
       "      <th>b_area_scale</th>\n",
       "      <th>tf_scale</th>\n",
       "      <th>tf_scale_2</th>\n",
       "    </tr>\n",
       "  </thead>\n",
       "  <tbody>\n",
       "    <tr>\n",
       "      <th>count</th>\n",
       "      <td>527.000000</td>\n",
       "      <td>527.000000</td>\n",
       "      <td>527.000000</td>\n",
       "      <td>527.000000</td>\n",
       "      <td>527.000000</td>\n",
       "      <td>527.000000</td>\n",
       "      <td>527.000000</td>\n",
       "      <td>527.000000</td>\n",
       "      <td>527.000000</td>\n",
       "      <td>527.000000</td>\n",
       "      <td>527.000000</td>\n",
       "      <td>527.000000</td>\n",
       "      <td>527.000000</td>\n",
       "      <td>527.000000</td>\n",
       "      <td>527.000000</td>\n",
       "      <td>527.000000</td>\n",
       "    </tr>\n",
       "    <tr>\n",
       "      <th>mean</th>\n",
       "      <td>480.182163</td>\n",
       "      <td>508.952562</td>\n",
       "      <td>161.091082</td>\n",
       "      <td>169.635674</td>\n",
       "      <td>308.554080</td>\n",
       "      <td>357.265655</td>\n",
       "      <td>148.462998</td>\n",
       "      <td>188.629981</td>\n",
       "      <td>676.432638</td>\n",
       "      <td>759.620493</td>\n",
       "      <td>218.338942</td>\n",
       "      <td>277.058739</td>\n",
       "      <td>0.824470</td>\n",
       "      <td>0.647652</td>\n",
       "      <td>0.951202</td>\n",
       "      <td>0.951202</td>\n",
       "    </tr>\n",
       "    <tr>\n",
       "      <th>std</th>\n",
       "      <td>221.004063</td>\n",
       "      <td>22.680363</td>\n",
       "      <td>131.068885</td>\n",
       "      <td>87.936224</td>\n",
       "      <td>146.202463</td>\n",
       "      <td>92.654976</td>\n",
       "      <td>44.945532</td>\n",
       "      <td>57.973884</td>\n",
       "      <td>163.144093</td>\n",
       "      <td>86.189332</td>\n",
       "      <td>61.497894</td>\n",
       "      <td>78.634511</td>\n",
       "      <td>0.259569</td>\n",
       "      <td>0.184465</td>\n",
       "      <td>0.241162</td>\n",
       "      <td>0.241162</td>\n",
       "    </tr>\n",
       "    <tr>\n",
       "      <th>min</th>\n",
       "      <td>378.000000</td>\n",
       "      <td>270.000000</td>\n",
       "      <td>1.000000</td>\n",
       "      <td>1.000000</td>\n",
       "      <td>56.000000</td>\n",
       "      <td>93.000000</td>\n",
       "      <td>43.000000</td>\n",
       "      <td>60.000000</td>\n",
       "      <td>600.000000</td>\n",
       "      <td>576.000000</td>\n",
       "      <td>68.253968</td>\n",
       "      <td>95.238095</td>\n",
       "      <td>0.296137</td>\n",
       "      <td>0.281223</td>\n",
       "      <td>0.446386</td>\n",
       "      <td>0.446386</td>\n",
       "    </tr>\n",
       "    <tr>\n",
       "      <th>25%</th>\n",
       "      <td>378.000000</td>\n",
       "      <td>504.000000</td>\n",
       "      <td>69.000000</td>\n",
       "      <td>104.500000</td>\n",
       "      <td>206.500000</td>\n",
       "      <td>287.500000</td>\n",
       "      <td>115.000000</td>\n",
       "      <td>143.500000</td>\n",
       "      <td>600.000000</td>\n",
       "      <td>800.000000</td>\n",
       "      <td>177.955556</td>\n",
       "      <td>224.603175</td>\n",
       "      <td>0.724282</td>\n",
       "      <td>0.515099</td>\n",
       "      <td>0.805278</td>\n",
       "      <td>0.805278</td>\n",
       "    </tr>\n",
       "    <tr>\n",
       "      <th>50%</th>\n",
       "      <td>378.000000</td>\n",
       "      <td>504.000000</td>\n",
       "      <td>124.000000</td>\n",
       "      <td>172.000000</td>\n",
       "      <td>279.000000</td>\n",
       "      <td>372.000000</td>\n",
       "      <td>149.000000</td>\n",
       "      <td>188.000000</td>\n",
       "      <td>600.000000</td>\n",
       "      <td>800.000000</td>\n",
       "      <td>210.133333</td>\n",
       "      <td>266.666667</td>\n",
       "      <td>0.773869</td>\n",
       "      <td>0.617138</td>\n",
       "      <td>0.905067</td>\n",
       "      <td>0.905067</td>\n",
       "    </tr>\n",
       "    <tr>\n",
       "      <th>75%</th>\n",
       "      <td>378.000000</td>\n",
       "      <td>504.000000</td>\n",
       "      <td>208.000000</td>\n",
       "      <td>234.000000</td>\n",
       "      <td>346.500000</td>\n",
       "      <td>424.500000</td>\n",
       "      <td>176.000000</td>\n",
       "      <td>231.000000</td>\n",
       "      <td>600.000000</td>\n",
       "      <td>800.000000</td>\n",
       "      <td>255.555556</td>\n",
       "      <td>323.015873</td>\n",
       "      <td>0.889113</td>\n",
       "      <td>0.773383</td>\n",
       "      <td>1.081444</td>\n",
       "      <td>1.081444</td>\n",
       "    </tr>\n",
       "    <tr>\n",
       "      <th>max</th>\n",
       "      <td>960.000000</td>\n",
       "      <td>540.000000</td>\n",
       "      <td>749.000000</td>\n",
       "      <td>443.000000</td>\n",
       "      <td>928.000000</td>\n",
       "      <td>540.000000</td>\n",
       "      <td>315.000000</td>\n",
       "      <td>352.000000</td>\n",
       "      <td>1024.000000</td>\n",
       "      <td>800.000000</td>\n",
       "      <td>441.269841</td>\n",
       "      <td>558.730159</td>\n",
       "      <td>2.822581</td>\n",
       "      <td>1.291457</td>\n",
       "      <td>1.839335</td>\n",
       "      <td>1.839335</td>\n",
       "    </tr>\n",
       "  </tbody>\n",
       "</table>\n",
       "</div>"
      ],
      "text/plain": [
       "            width      height        xmin        ymin        xmax        ymax  \\\n",
       "count  527.000000  527.000000  527.000000  527.000000  527.000000  527.000000   \n",
       "mean   480.182163  508.952562  161.091082  169.635674  308.554080  357.265655   \n",
       "std    221.004063   22.680363  131.068885   87.936224  146.202463   92.654976   \n",
       "min    378.000000  270.000000    1.000000    1.000000   56.000000   93.000000   \n",
       "25%    378.000000  504.000000   69.000000  104.500000  206.500000  287.500000   \n",
       "50%    378.000000  504.000000  124.000000  172.000000  279.000000  372.000000   \n",
       "75%    378.000000  504.000000  208.000000  234.000000  346.500000  424.500000   \n",
       "max    960.000000  540.000000  749.000000  443.000000  928.000000  540.000000   \n",
       "\n",
       "                w           h        new_w       new_h         b_w  \\\n",
       "count  527.000000  527.000000   527.000000  527.000000  527.000000   \n",
       "mean   148.462998  188.629981   676.432638  759.620493  218.338942   \n",
       "std     44.945532   57.973884   163.144093   86.189332   61.497894   \n",
       "min     43.000000   60.000000   600.000000  576.000000   68.253968   \n",
       "25%    115.000000  143.500000   600.000000  800.000000  177.955556   \n",
       "50%    149.000000  188.000000   600.000000  800.000000  210.133333   \n",
       "75%    176.000000  231.000000   600.000000  800.000000  255.555556   \n",
       "max    315.000000  352.000000  1024.000000  800.000000  441.269841   \n",
       "\n",
       "              b_h        b_ar  b_area_scale    tf_scale  tf_scale_2  \n",
       "count  527.000000  527.000000    527.000000  527.000000  527.000000  \n",
       "mean   277.058739    0.824470      0.647652    0.951202    0.951202  \n",
       "std     78.634511    0.259569      0.184465    0.241162    0.241162  \n",
       "min     95.238095    0.296137      0.281223    0.446386    0.446386  \n",
       "25%    224.603175    0.724282      0.515099    0.805278    0.805278  \n",
       "50%    266.666667    0.773869      0.617138    0.905067    0.905067  \n",
       "75%    323.015873    0.889113      0.773383    1.081444    1.081444  \n",
       "max    558.730159    2.822581      1.291457    1.839335    1.839335  "
      ]
     },
     "execution_count": 10,
     "metadata": {},
     "output_type": "execute_result"
    }
   ],
   "source": [
    "# TF scale\n",
    "base_anchor = 256\n",
    "data['tf_scale'] = data['b_h']*(data['b_ar']).apply(np.sqrt)/base_anchor\n",
    "data['tf_scale_2']= data['b_w']/((data['b_ar']).apply(np.sqrt)*base_anchor)\n",
    "data.describe()"
   ]
  },
  {
   "cell_type": "code",
   "execution_count": 11,
   "metadata": {},
   "outputs": [
    {
     "data": {
      "text/plain": [
       "Index([u'filename', u'width', u'height', u'class', u'xmin', u'ymin', u'xmax',\n",
       "       u'ymax', u'w', u'h', u'new_w', u'new_h', u'b_w', u'b_h', u'b_ar',\n",
       "       u'b_area_scale', u'tf_scale', u'tf_scale_2'],\n",
       "      dtype='object')"
      ]
     },
     "execution_count": 11,
     "metadata": {},
     "output_type": "execute_result"
    }
   ],
   "source": [
    "data.columns"
   ]
  },
  {
   "cell_type": "markdown",
   "metadata": {},
   "source": [
    "## Clusterring\n",
    "\n",
    "### Eucledian Distance Based Clusterring\n",
    "\n",
    "### One by One (AR and Scale Separately)"
   ]
  },
  {
   "cell_type": "code",
   "execution_count": 12,
   "metadata": {},
   "outputs": [
    {
     "data": {
      "text/plain": [
       "[<matplotlib.lines.Line2D at 0x7f6270e5d290>]"
      ]
     },
     "execution_count": 12,
     "metadata": {},
     "output_type": "execute_result"
    },
    {
     "data": {
      "image/png": "[encoded data removed]",
      "text/plain": [
       "<Figure size 432x288 with 1 Axes>"
      ]
     },
     "metadata": {},
     "output_type": "display_data"
    }
   ],
   "source": [
    "# Aspect Ratio\n",
    "X = data.iloc[:,14].values\n",
    "X = X.reshape(-1,1)\n",
    "\n",
    "\n",
    "loss = []\n",
    "from sklearn.cluster import KMeans\n",
    "for i in range(2,10):\n",
    "    K = KMeans(i, random_state=1)\n",
    "    labels = K.fit(X)\n",
    "    loss.append(labels.inertia_)\n",
    "\n",
    "plt.plot(loss)"
   ]
  },
  {
   "cell_type": "code",
   "execution_count": 13,
   "metadata": {},
   "outputs": [
    {
     "name": "stdout",
     "output_type": "stream",
     "text": [
      "b_ar\n",
      "Aspect Ratios:\n",
      "\n",
      "[[0.78240442]\n",
      " [1.2019433 ]\n",
      " [0.44523506]\n",
      " [2.76931501]]\n"
     ]
    }
   ],
   "source": [
    "print data.columns[14]\n",
    "\n",
    "from sklearn.cluster import KMeans\n",
    "K = KMeans(4, random_state=1)\n",
    "labels = K.fit(X)\n",
    "print \"Aspect Ratios:\\n\"\n",
    "print labels.cluster_centers_"
   ]
  },
  {
   "cell_type": "code",
   "execution_count": 14,
   "metadata": {},
   "outputs": [
    {
     "data": {
      "text/plain": [
       "0.9999999999999998"
      ]
     },
     "execution_count": 14,
     "metadata": {},
     "output_type": "execute_result"
    }
   ],
   "source": [
    "# Correlation Check (ignore!)\n",
    "\n",
    "x = data['w']/data['h']\n",
    "\n",
    "data['b_ar'].corr(x)"
   ]
  },
  {
   "cell_type": "code",
   "execution_count": 15,
   "metadata": {},
   "outputs": [
    {
     "data": {
      "text/plain": [
       "[<matplotlib.lines.Line2D at 0x7f626d9fbd90>]"
      ]
     },
     "execution_count": 15,
     "metadata": {},
     "output_type": "execute_result"
    },
    {
     "data": {
      "image/png": "[encoded data removed]",
      "text/plain": [
       "<Figure size 432x288 with 1 Axes>"
      ]
     },
     "metadata": {},
     "output_type": "display_data"
    }
   ],
   "source": [
    "\n",
    "# TF_Scale Clusterring\n",
    "X = data.iloc[:,16].values\n",
    "X = X.reshape(-1,1)\n",
    "\n",
    "\n",
    "loss = []\n",
    "from sklearn.cluster import KMeans\n",
    "for i in range(2,10):\n",
    "    K = KMeans(i, random_state=1)\n",
    "    labels = K.fit(X)\n",
    "    loss.append(labels.inertia_)\n",
    "\n",
    "plt.plot(loss)"
   ]
  },
  {
   "cell_type": "code",
   "execution_count": 16,
   "metadata": {},
   "outputs": [
    {
     "data": {
      "text/plain": [
       "[<matplotlib.lines.Line2D at 0x7f626d9634d0>]"
      ]
     },
     "execution_count": 16,
     "metadata": {},
     "output_type": "execute_result"
    },
    {
     "data": {
      "image/png": "[encoded data removed]",
      "text/plain": [
       "<Figure size 432x288 with 1 Axes>"
      ]
     },
     "metadata": {},
     "output_type": "display_data"
    }
   ],
   "source": [
    "# Plot of different scales\n",
    "plt.plot(X, 'o')"
   ]
  },
  {
   "cell_type": "code",
   "execution_count": 17,
   "metadata": {},
   "outputs": [
    {
     "name": "stdout",
     "output_type": "stream",
     "text": [
      "tf_scale\n"
     ]
    },
    {
     "data": {
      "text/plain": [
       "array([[0.87812255],\n",
       "       [1.5433253 ],\n",
       "       [0.65048555],\n",
       "       [1.1442309 ]])"
      ]
     },
     "execution_count": 17,
     "metadata": {},
     "output_type": "execute_result"
    }
   ],
   "source": [
    "print data.columns[16]\n",
    "\n",
    "from sklearn.cluster import KMeans\n",
    "K = KMeans(4, random_state=1)\n",
    "labels = K.fit(X)\n",
    "labels.cluster_centers_"
   ]
  },
  {
   "cell_type": "code",
   "execution_count": 18,
   "metadata": {},
   "outputs": [
    {
     "data": {
      "text/plain": [
       "[<matplotlib.lines.Line2D at 0x7f626d95aa90>]"
      ]
     },
     "execution_count": 18,
     "metadata": {},
     "output_type": "execute_result"
    },
    {
     "data": {
      "image/png": "[encoded data removed]",
      "text/plain": [
       "<Figure size 432x288 with 1 Axes>"
      ]
     },
     "metadata": {},
     "output_type": "display_data"
    }
   ],
   "source": [
    "# area_Scale\n",
    "X = data.iloc[:,15].values\n",
    "X = X.reshape(-1,1)\n",
    "\n",
    "\n",
    "loss = []\n",
    "from sklearn.cluster import KMeans\n",
    "for i in range(2,10):\n",
    "    K = KMeans(i, random_state=1)\n",
    "    labels = K.fit(X)\n",
    "    loss.append(labels.inertia_)\n",
    "\n",
    "plt.plot(loss)"
   ]
  },
  {
   "cell_type": "code",
   "execution_count": 19,
   "metadata": {},
   "outputs": [
    {
     "name": "stdout",
     "output_type": "stream",
     "text": [
      "b_area_scale\n"
     ]
    },
    {
     "data": {
      "text/plain": [
       "array([[1.00323368],\n",
       "       [0.57879228],\n",
       "       [0.77016754],\n",
       "       [0.42441227]])"
      ]
     },
     "execution_count": 19,
     "metadata": {},
     "output_type": "execute_result"
    }
   ],
   "source": [
    "print data.columns[15]\n",
    "\n",
    "from sklearn.cluster import KMeans\n",
    "K = KMeans(4, random_state=1)\n",
    "labels = K.fit(X)\n",
    "labels.cluster_centers_"
   ]
  },
  {
   "cell_type": "markdown",
   "metadata": {},
   "source": [
    "## Clusterring using both width & height"
   ]
  },
  {
   "cell_type": "code",
   "execution_count": 20,
   "metadata": {},
   "outputs": [
    {
     "name": "stdout",
     "output_type": "stream",
     "text": [
      "Index([u'b_w', u'b_h'], dtype='object')\n"
     ]
    },
    {
     "data": {
      "image/png": "[encoded data removed]",
      "text/plain": [
       "<Figure size 432x288 with 1 Axes>"
      ]
     },
     "metadata": {},
     "output_type": "display_data"
    }
   ],
   "source": [
    "print data.columns[12:14]\n",
    "X = data.as_matrix(columns=data.columns[12:14])\n",
    "\n",
    "from sklearn.cluster import KMeans\n",
    "K = KMeans(5, random_state=0)\n",
    "labels = K.fit(X)\n",
    "plt.scatter(X[:, 0], X[:, 1], c=labels.labels_,\n",
    "            s=50, cmap='viridis');"
   ]
  },
  {
   "cell_type": "code",
   "execution_count": 21,
   "metadata": {},
   "outputs": [
    {
     "name": "stdout",
     "output_type": "stream",
     "text": [
      "Aspect Ratios: \n",
      "[0.44050928 0.86447933 0.81207427 0.86933814 0.76808116]\n",
      "Scales: \n",
      "[0.8826436  0.89024631 1.15471327 0.66806676 1.5566834 ]\n"
     ]
    }
   ],
   "source": [
    "out = labels.cluster_centers_\n",
    "\n",
    "ar = out[:,0]/out[:,1]\n",
    "scale = out[:,1]*np.sqrt(ar)/256\n",
    "\n",
    "print \"Aspect Ratios: \"\n",
    "print ar\n",
    "\n",
    "print \"Scales: \"\n",
    "print scale"
   ]
  },
  {
   "cell_type": "markdown",
   "metadata": {},
   "source": [
    "### IOU based clusterring"
   ]
  },
  {
   "cell_type": "code",
   "execution_count": 22,
   "metadata": {},
   "outputs": [],
   "source": [
    "#utility functions for K-means\n",
    "import numpy as np\n",
    "\n",
    "\n",
    "def iou(box, clusters):\n",
    "    \"\"\"\n",
    "    Calculates the Intersection over Union (IoU) between a box and k clusters.\n",
    "    :param box: tuple or array, shifted to the origin (i. e. width and height)\n",
    "    :param clusters: numpy array of shape (k, 2) where k is the number of clusters\n",
    "    :return: numpy array of shape (k, 0) where k is the number of clusters\n",
    "    \"\"\"\n",
    "    x = np.minimum(clusters[:, 0], box[0])\n",
    "    y = np.minimum(clusters[:, 1], box[1])\n",
    "    if np.count_nonzero(x == 0) > 0 or np.count_nonzero(y == 0) > 0:\n",
    "        raise ValueError(\"Box has no area\")\n",
    "\n",
    "    intersection = x * y\n",
    "    box_area = box[0] * box[1]\n",
    "    cluster_area = clusters[:, 0] * clusters[:, 1]\n",
    "\n",
    "    iou_ = intersection / (box_area + cluster_area - intersection)\n",
    "\n",
    "    return iou_\n",
    "\n",
    "\n",
    "def avg_iou(boxes, clusters):\n",
    "    \"\"\"\n",
    "    Calculates the average Intersection over Union (IoU) between a numpy array of boxes and k clusters.\n",
    "    :param boxes: numpy array of shape (r, 2), where r is the number of rows\n",
    "    :param clusters: numpy array of shape (k, 2) where k is the number of clusters\n",
    "    :return: average IoU as a single float\n",
    "    \"\"\"\n",
    "    return np.mean([np.max(iou(boxes[i], clusters)) for i in range(boxes.shape[0])])\n",
    "\n",
    "\n",
    "def translate_boxes(boxes):\n",
    "    \"\"\"\n",
    "    Translates all the boxes to the origin.\n",
    "    :param boxes: numpy array of shape (r, 4)\n",
    "    :return: numpy array of shape (r, 2)\n",
    "    \"\"\"\n",
    "    new_boxes = boxes.copy()\n",
    "    for row in range(new_boxes.shape[0]):\n",
    "        new_boxes[row][2] = np.abs(new_boxes[row][2] - new_boxes[row][0])\n",
    "        new_boxes[row][3] = np.abs(new_boxes[row][3] - new_boxes[row][1])\n",
    "    return np.delete(new_boxes, [0, 1], axis=1)\n",
    "\n",
    "\n",
    "def kmeans(boxes, k, dist=np.median):\n",
    "    \"\"\"\n",
    "    Calculates k-means clustering with the Intersection over Union (IoU) metric.\n",
    "    :param boxes: numpy array of shape (r, 2), where r is the number of rows\n",
    "    :param k: number of clusters\n",
    "    :param dist: distance function\n",
    "    :return: numpy array of shape (k, 2)\n",
    "    \"\"\"\n",
    "    rows = boxes.shape[0]\n",
    "\n",
    "    distances = np.empty((rows, k))\n",
    "    last_clusters = np.zeros((rows,))\n",
    "\n",
    "    np.random.seed()\n",
    "\n",
    "    # the Forgy method will fail if the whole array contains the same rows\n",
    "    clusters = boxes[np.random.choice(rows, k, replace=False)]\n",
    "\n",
    "    while True:\n",
    "        for row in range(rows):\n",
    "            distances[row] = 1 - iou(boxes[row], clusters)\n",
    "\n",
    "        nearest_clusters = np.argmin(distances, axis=1)\n",
    "\n",
    "        if (last_clusters == nearest_clusters).all():\n",
    "            break\n",
    "\n",
    "        for cluster in range(k):\n",
    "            clusters[cluster] = dist(boxes[nearest_clusters == cluster], axis=0)\n",
    "\n",
    "        last_clusters = nearest_clusters\n",
    "\n",
    "    return clusters"
   ]
  },
  {
   "cell_type": "code",
   "execution_count": 23,
   "metadata": {},
   "outputs": [
    {
     "name": "stdout",
     "output_type": "stream",
     "text": [
      "Index([u'b_w', u'b_h'], dtype='object')\n",
      "[[136.50793651 201.58730159]\n",
      " [317.46031746 390.47619048]\n",
      " [197.33333333 238.0952381 ]\n",
      " [241.26984127 310.4       ]]\n"
     ]
    }
   ],
   "source": [
    "print data.columns[12:14]\n",
    "X = data.as_matrix(columns=data.columns[12:14])\n",
    "\n",
    "# Cluster with 4 centers\n",
    "cl = kmeans(X, 4)\n",
    "print cl"
   ]
  },
  {
   "cell_type": "code",
   "execution_count": 24,
   "metadata": {},
   "outputs": [
    {
     "name": "stdout",
     "output_type": "stream",
     "text": [
      "[0.67716535 0.81300813 0.8288     0.77728686]\n",
      "[0.64799338 1.37531455 0.84671181 1.06898697]\n"
     ]
    }
   ],
   "source": [
    "ar_iou = cl[:,0]/cl[:,1]\n",
    "\n",
    "print ar_iou\n",
    "\n",
    "\n",
    "scale_iou = cl[:,1]*np.sqrt(ar_iou)/256\n",
    "print scale_iou"
   ]
  },
  {
   "cell_type": "code",
   "execution_count": null,
   "metadata": {},
   "outputs": [],
   "source": []
  }
 ],
 "metadata": {
  "kernelspec": {
   "display_name": "Python 3 (ipykernel)",
   "language": "python",
   "name": "python3"
  },
  "language_info": {
   "codemirror_mode": {
    "name": "ipython",
    "version": 3
   },
   "file_extension": ".py",
   "mimetype": "text/x-python",
   "name": "python",
   "nbconvert_exporter": "python",
   "pygments_lexer": "ipython3",
   "version": "3.8.10"
  }
 },
 "nbformat": 4,
 "nbformat_minor": 2
}
