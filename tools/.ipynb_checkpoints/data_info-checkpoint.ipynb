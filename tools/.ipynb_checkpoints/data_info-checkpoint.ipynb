{
 "cells": [
  {
   "cell_type": "markdown",
   "id": "6a3b29cc",
   "metadata": {},
   "source": [
    "# Get the number of images with boats"
   ]
  },
  {
   "cell_type": "code",
   "execution_count": 1,
   "id": "53086c75",
   "metadata": {},
   "outputs": [
    {
     "name": "stdout",
     "output_type": "stream",
     "text": [
      "Nombre d'images : 192556, dont 42556 comprenant au moins un bateau.\n"
     ]
    }
   ],
   "source": [
    "import pandas as pd\n",
    "\n",
    "data_label = pd.read_csv('/tf/ship_data/train_ship_segmentations_v2.csv')\n",
    "\n",
    "images_names = data_label['ImageId'].unique()\n",
    "nb_images_total = len(images_names)\n",
    "\n",
    "nb_images_bateau = nb_images_total - len(data_label[data_label.EncodedPixels != data_label.EncodedPixels])\n",
    "\n",
    "print(\n",
    "    \"Nombre d'images : {}, dont {} comprenant au moins un bateau.\".format(nb_images_total, nb_images_bateau)\n",
    ")"
   ]
  },
  {
   "cell_type": "markdown",
   "id": "d27453a7",
   "metadata": {},
   "source": [
    "# Get informations concerning the sizes of boats on images"
   ]
  },
  {
   "cell_type": "code",
   "execution_count": 2,
   "id": "53005990",
   "metadata": {},
   "outputs": [
    {
     "name": "stderr",
     "output_type": "stream",
     "text": [
      "100%|████████████████████████████████████| 81723/81723 [02:05<00:00, 653.20it/s]\n"
     ]
    }
   ],
   "source": [
    "import pandas as pd\n",
    "from tqdm import tqdm\n",
    "\n",
    "df = pd.read_csv('/tf/ship_data/train_ship_segmentations_OD.csv')\n",
    "\n",
    "df_ship = df[df.xmax == df.xmax] # dataframe des images avec bateau\n",
    "\n",
    "sizes = pd.DataFrame(columns = ['filename','W' , 'H'])\n",
    "\n",
    "for index, row in tqdm(df_ship.iterrows(), total=df_ship.shape[0]):\n",
    "    new_row = pd.DataFrame.from_dict({'filename': row['filename'], 'W': [row['xmax']-row['xmin']], 'H': [row['ymax']-row['ymin']]})\n",
    "    sizes = pd.concat([sizes, new_row],  ignore_index=True)"
   ]
  },
  {
   "cell_type": "code",
   "execution_count": 5,
   "id": "68008f57",
   "metadata": {
    "scrolled": false
   },
   "outputs": [
    {
     "name": "stdout",
     "output_type": "stream",
     "text": [
      "                  W             H\n",
      "count  81723.000000  81723.000000\n",
      "mean      51.497571     42.707255\n",
      "std       57.055064     45.435486\n",
      "min        0.000000      1.000000\n",
      "25%       13.000000     13.000000\n",
      "50%       28.000000     25.000000\n",
      "75%       69.000000     56.000000\n",
      "max      443.000000    335.000000\n"
     ]
    }
   ],
   "source": [
    "print(sizes[['W','H']].astype(int).describe())"
   ]
  },
  {
   "cell_type": "code",
   "execution_count": 4,
   "id": "8e49c761",
   "metadata": {},
   "outputs": [],
   "source": [
    "import matplotlib.pyplot as plt\n",
    "import numpy as np\n",
    "\n",
    "fig = plt.figure()\n",
    "\n",
    "x = [1,2,3,4,5,6,7,8,9,10]\n",
    "height = [8,12,8,5,4,3,2,1,0,0]\n",
    "width = 1.0\n",
    "\n",
    "plt.bar(x, height, width, color='b' )\n",
    "\n",
    "plt.savefig('SimpleBar.png')\n",
    "plt.show()"
   ]
  },
  {
   "cell_type": "code",
   "execution_count": 6,
   "id": "0d273e4e",
   "metadata": {},
   "outputs": [],
   "source": [
    "W = sizes['W'].to_list()\n",
    "H = sizes['H'].to_list()"
   ]
  },
  {
   "cell_type": "code",
   "execution_count": 7,
   "id": "72bc5b3f",
   "metadata": {},
   "outputs": [
    {
     "name": "stdout",
     "output_type": "stream",
     "text": [
      "81723\n"
     ]
    }
   ],
   "source": [
    "print(len(l))"
   ]
  },
  {
   "cell_type": "code",
   "execution_count": 16,
   "id": "f0c1e53e",
   "metadata": {},
   "outputs": [],
   "source": [
    "import matplotlib.pyplot as plt\n",
    "import numpy as np\n",
    "\n",
    "def count(sizes, nb_bar):\n",
    "    bar_width = 768 // nb_bar\n",
    "    counts_w = np.zeros(nb_bar)\n",
    "    counts_h = np.zeros(nb_bar)\n",
    "    for index, row in tqdm(sizes.iterrows(), total=sizes.shape[0]):\n",
    "        counts_w[int(row['W']//bar_width)]+=1\n",
    "        counts_h[int(row['H']//bar_width)]+=1\n",
    "    return counts_w, counts_h"
   ]
  },
  {
   "cell_type": "code",
   "execution_count": 56,
   "id": "1e0e6b87",
   "metadata": {},
   "outputs": [],
   "source": [
    "import matplotlib.pyplot as plt\n",
    "import numpy as np\n",
    "\n",
    "def draw_bar(sizes, nb_bar):\n",
    "    \n",
    "    bar_width = 768 // nb_bar\n",
    "    counts_w = np.zeros(nb_bar)\n",
    "    counts_h = np.zeros(nb_bar)\n",
    "    \n",
    "    for index, row in tqdm(sizes.iterrows(), total=sizes.shape[0]):\n",
    "        counts_w[int(row['W']//bar_width)]+=1\n",
    "        counts_h[int(row['H']//bar_width)]+=1\n",
    "        \n",
    "    x = np.linspace(bar_width/2,768+bar_width/2,nb_bar,endpoint=False)\n",
    "    \n",
    "    fig = plt.figure(figsize=(10, 7))\n",
    "    plt.xticks(np.arange(0, 776, 25))\n",
    "    plt.xticks(rotation=45)\n",
    "    plt.xlabel('taille en pixels')\n",
    "    plt.ylabel(\"Nombre de bateaux\")\n",
    "    plt.title('Distribution de la largeur des bateaux sur les images')\n",
    "    plt.bar(x, counts_w, bar_width, color='#6495ed' )\n",
    "    plt.savefig('size_distrib_w_'+str(nb_bar)+'.pdf')\n",
    "    \n",
    "    fig = plt.figure(figsize=(10, 7))\n",
    "    plt.xticks(np.arange(0, 776, 25))\n",
    "    plt.xticks(rotation=45)\n",
    "    plt.xlabel('taille en pixels')\n",
    "    plt.ylabel(\"nombre d'images\")\n",
    "    plt.title('Distribution de la hauteur des bateaux sur les images')\n",
    "    plt.bar(x, counts_h, bar_width, color='#6495ed' )\n",
    "    plt.savefig('size_distrib_h_'+str(nb_bar)+'.pdf')"
   ]
  },
  {
   "cell_type": "code",
   "execution_count": 57,
   "id": "6aacc524",
   "metadata": {
    "scrolled": true
   },
   "outputs": [
    {
     "name": "stderr",
     "output_type": "stream",
     "text": [
      "100%|██████████████████████████████████| 81723/81723 [00:03<00:00, 22162.51it/s]\n"
     ]
    },
    {
     "data": {
      "image/png": "[encoded data removed]",
      "text/plain": [
       "<Figure size 720x504 with 1 Axes>"
      ]
     },
     "metadata": {
      "needs_background": "light"
     },
     "output_type": "display_data"
    },
    {
     "data": {
      "image/png": "[encoded data removed]",
      "text/plain": [
       "<Figure size 720x504 with 1 Axes>"
      ]
     },
     "metadata": {
      "needs_background": "light"
     },
     "output_type": "display_data"
    }
   ],
   "source": [
    "draw_bar(sizes, 12)"
   ]
  },
  {
   "cell_type": "code",
   "execution_count": 40,
   "id": "c440e361",
   "metadata": {},
   "outputs": [
    {
     "name": "stdout",
     "output_type": "stream",
     "text": [
      "[ 32.  96. 160. 224. 288. 352. 416. 480. 544. 608. 672. 736.]\n"
     ]
    }
   ],
   "source": [
    "bar_width = 768 // 12\n",
    "x = np.linspace(bar_width/2,768+bar_width/2,12,endpoint=False)\n",
    "print(x)"
   ]
  },
  {
   "cell_type": "code",
   "execution_count": null,
   "id": "dd5a2b0b",
   "metadata": {},
   "outputs": [],
   "source": []
  },
  {
   "cell_type": "code",
   "execution_count": null,
   "id": "d0079b49",
   "metadata": {},
   "outputs": [],
   "source": []
  },
  {
   "cell_type": "code",
   "execution_count": null,
   "id": "2d98eea6",
   "metadata": {},
   "outputs": [],
   "source": []
  },
  {
   "cell_type": "code",
   "execution_count": null,
   "id": "aa1e6b4d",
   "metadata": {},
   "outputs": [],
   "source": []
  },
  {
   "cell_type": "code",
   "execution_count": null,
   "id": "1db5a275",
   "metadata": {},
   "outputs": [],
   "source": []
  },
  {
   "cell_type": "code",
   "execution_count": null,
   "id": "36b55c80",
   "metadata": {},
   "outputs": [],
   "source": []
  },
  {
   "cell_type": "code",
   "execution_count": null,
   "id": "3cd8afc7",
   "metadata": {},
   "outputs": [],
   "source": []
  }
 ],
 "metadata": {
  "kernelspec": {
   "display_name": "Python 3 (ipykernel)",
   "language": "python",
   "name": "python3"
  },
  "language_info": {
   "codemirror_mode": {
    "name": "ipython",
    "version": 3
   },
   "file_extension": ".py",
   "mimetype": "text/x-python",
   "name": "python",
   "nbconvert_exporter": "python",
   "pygments_lexer": "ipython3",
   "version": "3.8.10"
  }
 },
 "nbformat": 4,
 "nbformat_minor": 5
}
