{
 "cells": [
  {
   "cell_type": "markdown",
   "id": "6a3b29cc",
   "metadata": {},
   "source": [
    "# Get the number of images with boats"
   ]
  },
  {
   "cell_type": "code",
   "execution_count": 1,
   "id": "53086c75",
   "metadata": {},
   "outputs": [
    {
     "name": "stdout",
     "output_type": "stream",
     "text": [
      "Nombre d'images : 192556, dont 42556 comprenant au moins un bateau.\n"
     ]
    }
   ],
   "source": [
    "import pandas as pd\n",
    "\n",
    "data_label = pd.read_csv('/tf/ship_data/train_ship_segmentations_v2.csv')\n",
    "\n",
    "images_names = data_label['ImageId'].unique()\n",
    "nb_images_total = len(images_names)\n",
    "\n",
    "nb_images_bateau = nb_images_total - len(data_label[data_label.EncodedPixels != data_label.EncodedPixels])\n",
    "\n",
    "print(\n",
    "    \"Nombre d'images : {}, dont {} comprenant au moins un bateau.\".format(nb_images_total, nb_images_bateau)\n",
    ")"
   ]
  },
  {
   "cell_type": "markdown",
   "id": "d27453a7",
   "metadata": {},
   "source": [
    "# Get informations concerning the sizes of boats on images"
   ]
  },
  {
   "cell_type": "code",
   "execution_count": 4,
   "id": "53005990",
   "metadata": {},
   "outputs": [
    {
     "name": "stderr",
     "output_type": "stream",
     "text": [
      "100%|██████████████████████████████| 81723/81723 [02:03<00:00, 663.77it/s]\n"
     ]
    }
   ],
   "source": [
    "import pandas as pd\n",
    "from tqdm import tqdm\n",
    "\n",
    "df = pd.read_csv('/tf/ship_data/train_ship_segmentations_OD.csv')\n",
    "\n",
    "df_ship = df[df.xmax == df.xmax] # dataframe des images avec bateau\n",
    "\n",
    "sizes = pd.DataFrame(columns = ['filename','W' , 'H'])\n",
    "\n",
    "for index, row in tqdm(df_ship.iterrows(), total=df_ship.shape[0]):\n",
    "    new_row = pd.DataFrame.from_dict({'filename': row['filename'], 'W': [row['xmax']-row['xmin']], 'H': [row['ymax']-row['ymin']]})\n",
    "    sizes = pd.concat([sizes, new_row],  ignore_index=True)"
   ]
  },
  {
   "cell_type": "code",
   "execution_count": 5,
   "id": "68008f57",
   "metadata": {
    "scrolled": false
   },
   "outputs": [
    {
     "name": "stdout",
     "output_type": "stream",
     "text": [
      "                  W             H\n",
      "count  81723.000000  81723.000000\n",
      "mean      51.497571     42.707255\n",
      "std       57.055064     45.435486\n",
      "min        0.000000      1.000000\n",
      "25%       13.000000     13.000000\n",
      "50%       28.000000     25.000000\n",
      "75%       69.000000     56.000000\n",
      "max      443.000000    335.000000\n"
     ]
    }
   ],
   "source": [
    "print(sizes[['W','H']].astype(int).describe())"
   ]
  },
  {
   "cell_type": "code",
   "execution_count": 5,
   "id": "1e0e6b87",
   "metadata": {},
   "outputs": [],
   "source": [
    "import matplotlib.pyplot as plt\n",
    "import numpy as np\n",
    "\n",
    "def draw_bar(sizes, nb_bar):\n",
    "    \n",
    "    bar_width = 768 // nb_bar\n",
    "    counts_w = np.zeros(nb_bar)\n",
    "    counts_h = np.zeros(nb_bar)\n",
    "    \n",
    "    for index, row in tqdm(sizes.iterrows(), total=sizes.shape[0]):\n",
    "        counts_w[int(row['W']//bar_width)]+=1\n",
    "        counts_h[int(row['H']//bar_width)]+=1\n",
    "        \n",
    "    x = np.linspace(bar_width/2,768+bar_width/2,nb_bar,endpoint=False)\n",
    "    \n",
    "    fig = plt.figure(figsize=(10, 7))\n",
    "    plt.xticks(np.arange(0, 776, 25))\n",
    "    plt.xticks(rotation=45)\n",
    "    plt.xlabel('taille en pixels')\n",
    "    plt.ylabel(\"Nombre de bateaux\")\n",
    "    plt.title('Distribution de la largeur des bateaux sur les images')\n",
    "    plt.bar(x, counts_w, bar_width, color='#6495ed' )\n",
    "    plt.savefig('size_distrib_w_'+str(nb_bar)+'.pdf')\n",
    "    \n",
    "    fig = plt.figure(figsize=(10, 7))\n",
    "    plt.xticks(np.arange(0, 776, 25))\n",
    "    plt.xticks(rotation=45)\n",
    "    plt.xlabel('taille en pixels')\n",
    "    plt.ylabel(\"nombre d'images\")\n",
    "    plt.title('Distribution de la hauteur des bateaux sur les images')\n",
    "    plt.bar(x, counts_h, bar_width, color='#6495ed' )\n",
    "    plt.savefig('size_distrib_h_'+str(nb_bar)+'.pdf')"
   ]
  },
  {
   "cell_type": "code",
   "execution_count": 35,
   "id": "2ac3f08c",
   "metadata": {},
   "outputs": [],
   "source": [
    "import matplotlib.pyplot as plt\n",
    "import numpy as np\n",
    "\n",
    "def draw_bar(sizes, nb_bar):\n",
    "    \n",
    "    bar_width = 768 // nb_bar\n",
    "    counts_w = np.zeros(nb_bar)\n",
    "    counts_h = np.zeros(nb_bar)\n",
    "    \n",
    "    for index, row in tqdm(sizes.iterrows(), total=sizes.shape[0]):\n",
    "        counts_w[int(row['W']//bar_width)]+=1\n",
    "        counts_h[int(row['H']//bar_width)]+=1\n",
    "        \n",
    "    x = np.linspace(bar_width/2,768+bar_width/2,nb_bar,endpoint=False)\n",
    "    \n",
    "    fig, ax = plt.subplots(2, 1, figsize=(10,12))\n",
    "    plt.subplots_adjust(hspace=0.2)\n",
    "    \n",
    "    ax[0].set_xticks(np.arange(0, 776, 25), rotation=45)\n",
    "    ax[0].set_xlabel('taille en pixels')\n",
    "    ax[0].set_ylabel(\"Nombre de bateaux\")\n",
    "    ax[0].set_title('Distribution de la largeur des bateaux sur les images')\n",
    "    ax[0].bar(x, counts_w, bar_width, color='#6495ed' )\n",
    "    \n",
    "    ax[1].set_xticks(np.arange(0, 776, 25), rotation=45)\n",
    "    ax[1].set_xlabel('taille en pixels')\n",
    "    ax[1].set_ylabel(\"nombre d'images\")\n",
    "    ax[1].set_title('Distribution de la hauteur des bateaux sur les images')\n",
    "    ax[1].bar(x, counts_h, bar_width, color='#6495ed' )\n",
    "    \n",
    "    fig.autofmt_xdate(rotation=45)\n",
    "    \n",
    "    plt.savefig('size_distrib_'+str(nb_bar)+'.pdf')"
   ]
  },
  {
   "cell_type": "code",
   "execution_count": 36,
   "id": "36b55c80",
   "metadata": {},
   "outputs": [
    {
     "name": "stderr",
     "output_type": "stream",
     "text": [
      "100%|████████████████████████████| 81723/81723 [00:03<00:00, 23304.91it/s]\n"
     ]
    },
    {
     "data": {
      "image/png": "[encoded data removed]",
      "text/plain": [
       "<Figure size 720x864 with 2 Axes>"
      ]
     },
     "metadata": {
      "needs_background": "light"
     },
     "output_type": "display_data"
    }
   ],
   "source": [
    "draw_bar(sizes, 96)"
   ]
  },
  {
   "cell_type": "code",
   "execution_count": null,
   "id": "c58a0c85",
   "metadata": {},
   "outputs": [],
   "source": []
  }
 ],
 "metadata": {
  "kernelspec": {
   "display_name": "Python 3 (ipykernel)",
   "language": "python",
   "name": "python3"
  },
  "language_info": {
   "codemirror_mode": {
    "name": "ipython",
    "version": 3
   },
   "file_extension": ".py",
   "mimetype": "text/x-python",
   "name": "python",
   "nbconvert_exporter": "python",
   "pygments_lexer": "ipython3",
   "version": "3.8.10"
  }
 },
 "nbformat": 4,
 "nbformat_minor": 5
}
