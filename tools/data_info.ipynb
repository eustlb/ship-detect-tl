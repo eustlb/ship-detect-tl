{
 "cells": [
  {
   "cell_type": "markdown",
   "id": "6a3b29cc",
   "metadata": {},
   "source": [
    "# Get the number of images with boats"
   ]
  },
  {
   "cell_type": "code",
   "execution_count": 1,
   "id": "53086c75",
   "metadata": {},
   "outputs": [
    {
     "name": "stdout",
     "output_type": "stream",
     "text": [
      "Nombre d'images : 192556, dont 42556 comprenant au moins un bateau.\n"
     ]
    }
   ],
   "source": [
    "import pandas as pd\n",
    "\n",
    "data_label = pd.read_csv('/tf/ship_data/train_ship_segmentations_v2.csv')\n",
    "\n",
    "images_names = data_label['ImageId'].unique()\n",
    "nb_images_total = len(images_names)\n",
    "\n",
    "nb_images_bateau = nb_images_total - len(data_label[data_label.EncodedPixels != data_label.EncodedPixels])\n",
    "\n",
    "print(\n",
    "    \"Nombre d'images : {}, dont {} comprenant au moins un bateau.\".format(nb_images_total, nb_images_bateau)\n",
    ")"
   ]
  },
  {
   "cell_type": "markdown",
   "id": "d27453a7",
   "metadata": {},
   "source": [
    "# Get informations concerning the sizes of boats on images"
   ]
  },
  {
   "cell_type": "code",
   "execution_count": 2,
   "id": "53005990",
   "metadata": {},
   "outputs": [
    {
     "name": "stderr",
     "output_type": "stream",
     "text": [
      "100%|████████████████████████████████████| 81723/81723 [02:05<00:00, 653.20it/s]\n"
     ]
    }
   ],
   "source": [
    "import pandas as pd\n",
    "from tqdm import tqdm\n",
    "\n",
    "df = pd.read_csv('/tf/ship_data/train_ship_segmentations_OD.csv')\n",
    "\n",
    "df_ship = df[df.xmax == df.xmax] # dataframe des images avec bateau\n",
    "\n",
    "sizes = pd.DataFrame(columns = ['filename','W' , 'H'])\n",
    "\n",
    "for index, row in tqdm(df_ship.iterrows(), total=df_ship.shape[0]):\n",
    "    new_row = pd.DataFrame.from_dict({'filename': row['filename'], 'W': [row['xmax']-row['xmin']], 'H': [row['ymax']-row['ymin']]})\n",
    "    sizes = pd.concat([sizes, new_row],  ignore_index=True)"
   ]
  },
  {
   "cell_type": "code",
   "execution_count": 5,
   "id": "68008f57",
   "metadata": {
    "scrolled": false
   },
   "outputs": [
    {
     "name": "stdout",
     "output_type": "stream",
     "text": [
      "                  W             H\n",
      "count  81723.000000  81723.000000\n",
      "mean      51.497571     42.707255\n",
      "std       57.055064     45.435486\n",
      "min        0.000000      1.000000\n",
      "25%       13.000000     13.000000\n",
      "50%       28.000000     25.000000\n",
      "75%       69.000000     56.000000\n",
      "max      443.000000    335.000000\n"
     ]
    }
   ],
   "source": [
    "print(sizes[['W','H']].astype(int).describe())"
   ]
  },
  {
   "cell_type": "code",
   "execution_count": 4,
   "id": "8e49c761",
   "metadata": {},
   "outputs": [],
   "source": [
    "sizes.to_csv('/tf/ship_detect_tl/data/boat_sizes.csv', index=False)"
   ]
  },
  {
   "cell_type": "code",
   "execution_count": null,
   "id": "320c5055",
   "metadata": {},
   "outputs": [],
   "source": []
  }
 ],
 "metadata": {
  "kernelspec": {
   "display_name": "Python 3 (ipykernel)",
   "language": "python",
   "name": "python3"
  },
  "language_info": {
   "codemirror_mode": {
    "name": "ipython",
    "version": 3
   },
   "file_extension": ".py",
   "mimetype": "text/x-python",
   "name": "python",
   "nbconvert_exporter": "python",
   "pygments_lexer": "ipython3",
   "version": "3.8.10"
  }
 },
 "nbformat": 4,
 "nbformat_minor": 5
}
