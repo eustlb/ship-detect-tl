{
 "cells": [
  {
   "cell_type": "markdown",
   "id": "6a3b29cc",
   "metadata": {},
   "source": [
    "# Get the number of images with boats"
   ]
  },
  {
   "cell_type": "code",
   "execution_count": 3,
   "id": "53086c75",
   "metadata": {},
   "outputs": [
    {
     "name": "stdout",
     "output_type": "stream",
     "text": [
      "231723\n",
      "Nombre d'images : 192556, dont 42556 comprenant au moins un bateau.\n"
     ]
    }
   ],
   "source": [
    "import pandas as pd\n",
    "\n",
    "data_label = pd.read_csv('/tf/ship_data/train_ship_segmentations_v2.csv')\n",
    "\n",
    "print(len(data_label))\n",
    "\n",
    "images_names = data_label['ImageId'].unique()\n",
    "nb_images_total = len(images_names)\n",
    "\n",
    "nb_images_bateau = nb_images_total - len(data_label[data_label.EncodedPixels != data_label.EncodedPixels])\n",
    "\n",
    "print(\n",
    "    \"Nombre d'images : {}, dont {} comprenant au moins un bateau.\".format(nb_images_total, nb_images_bateau)\n",
    ")"
   ]
  },
  {
   "cell_type": "markdown",
   "id": "d27453a7",
   "metadata": {},
   "source": [
    "# Get informations concerning the sizes of boats on images"
   ]
  },
  {
   "cell_type": "code",
   "execution_count": null,
   "id": "53005990",
   "metadata": {},
   "outputs": [],
   "source": [
    "import pandas as pd\n",
    "\n",
    "df = pd.read_csv('/tf/ship_data/train_ship_segmentations_OD.csv')\n",
    "\n",
    "sizes = pd.DataFrame(columns = ['xSize' , 'ySize'])\n",
    "\n",
    "for index, row in df.iterrows():\n",
    "    new_row = pd.DataFrame.from_dict({'xSize': [row['xmax']-row['xmin']], 'ySize': [row['ymax']-row['ymin']]})\n",
    "    sizes = pd.concat([sizes, new_row],  ignore_index=True)\n",
    "\n",
    "print(sizes.astype(int).describe())"
   ]
  },
  {
   "cell_type": "code",
   "execution_count": null,
   "id": "68008f57",
   "metadata": {},
   "outputs": [],
   "source": []
  }
 ],
 "metadata": {
  "kernelspec": {
   "display_name": "Python 3 (ipykernel)",
   "language": "python",
   "name": "python3"
  },
  "language_info": {
   "codemirror_mode": {
    "name": "ipython",
    "version": 3
   },
   "file_extension": ".py",
   "mimetype": "text/x-python",
   "name": "python",
   "nbconvert_exporter": "python",
   "pygments_lexer": "ipython3",
   "version": "3.8.10"
  }
 },
 "nbformat": 4,
 "nbformat_minor": 5
}
