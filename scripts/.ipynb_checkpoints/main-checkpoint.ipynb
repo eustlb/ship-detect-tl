{
 "cells": [
  {
   "cell_type": "markdown",
   "id": "12958048",
   "metadata": {},
   "source": [
    "# Imports"
   ]
  },
  {
   "cell_type": "code",
   "execution_count": 20,
   "id": "4330e6eb",
   "metadata": {},
   "outputs": [],
   "source": [
    "from statistics import mode\n",
    "from generate_tfrecord import generate_tf_record\n",
    "from download_model import download_model\n",
    "import shutil\n",
    "import os"
   ]
  },
  {
   "cell_type": "markdown",
   "id": "9bd4cf35",
   "metadata": {},
   "source": [
    "# I - Création des tfrecord train et test"
   ]
  },
  {
   "cell_type": "markdown",
   "id": "9b4d88d8",
   "metadata": {},
   "source": [
    "## 1 - paramètres :"
   ]
  },
  {
   "cell_type": "code",
   "execution_count": 13,
   "id": "9e4c451b",
   "metadata": {},
   "outputs": [],
   "source": [
    "path_images = '/tf/ship_data/train_v2'\n",
    "path_to_csv = '/tf/ship_data/train_ship_segmentations_OD.csv'\n",
    "nb_images = 53000 # nombre total d'images, sachant qu'au maximum on peut prendre 42556 images avec bateau\n",
    "boat_rate = 0.9 # taux d'images contenant au moins un bateau\n",
    "cut_rate = 0.7 # taux d'images (par rapport à nb_images) utilisées pour train. Le reste sera utilisé pour test.\n",
    "tfrecord_dir = '/tf/annotations' # répertoire où train et test seront créés"
   ]
  },
  {
   "cell_type": "markdown",
   "id": "4f410913",
   "metadata": {},
   "source": [
    "## 2 - exécution du script :"
   ]
  },
  {
   "cell_type": "markdown",
   "id": "bab7debc",
   "metadata": {},
   "source": [
    "Génère deux fichiers au format tfrecord dans le répertoire tfrecord_dir : deux fichiers train et test nommés selon train_1000_80_70.tfrecord pour 1000 images, 80% d'images avec bateau réparties 70% dans train."
   ]
  },
  {
   "cell_type": "code",
   "execution_count": 14,
   "id": "4ad18862",
   "metadata": {
    "scrolled": true
   },
   "outputs": [
    {
     "name": "stdout",
     "output_type": "stream",
     "text": [
      "Les tfrecords demandés sont déjà présents au chemin suivant :/tf/annotations\n"
     ]
    }
   ],
   "source": [
    "generate_tf_record(path_images, path_to_csv, nb_images, cut_rate, boat_rate, tfrecord_dir)"
   ]
  },
  {
   "cell_type": "markdown",
   "id": "510f6520",
   "metadata": {},
   "source": [
    "# II - Chargement du modèle"
   ]
  },
  {
   "cell_type": "markdown",
   "id": "ddacd9a1",
   "metadata": {},
   "source": [
    "## 1 - paramètres :"
   ]
  },
  {
   "cell_type": "markdown",
   "id": "9fbacc48",
   "metadata": {},
   "source": [
    "Les modèles sont importés du \"model zoo\" de tensorflow : https://github.com/tensorflow/models/blob/master/research/object_detection/g3doc/tf2_detection_zoo.md"
   ]
  },
  {
   "cell_type": "code",
   "execution_count": 15,
   "id": "c260b7a5",
   "metadata": {},
   "outputs": [],
   "source": [
    "models_dir = '/tf/pretrained_models' # répertoire où les models seront téléchargés\n",
    "model_url = 'http://download.tensorflow.org/models/object_detection/tf2/20200711/faster_rcnn_resnet101_v1_640x640_coco17_tpu-8.tar.gz'"
   ]
  },
  {
   "cell_type": "markdown",
   "id": "5ea8b49c",
   "metadata": {},
   "source": [
    "## 2 - exécution du script :"
   ]
  },
  {
   "cell_type": "code",
   "execution_count": 16,
   "id": "6ea4792f",
   "metadata": {
    "scrolled": true
   },
   "outputs": [
    {
     "name": "stdout",
     "output_type": "stream",
     "text": [
      "Le modèle a déjà été téléchargé auparavant.\n"
     ]
    }
   ],
   "source": [
    "download_model(model_url, models_dir)"
   ]
  },
  {
   "cell_type": "markdown",
   "id": "882993dd",
   "metadata": {},
   "source": [
    "# III - Paramétrage des hyperparamètres du modèle"
   ]
  },
  {
   "cell_type": "markdown",
   "id": "09177970",
   "metadata": {},
   "source": [
    "Le paramétrage suivant n'est pas exhaustif. Seuls les paramètres génériques, assurant à l'apprentissage puisse être lancé. D'autres hyperparamètres spécifiques au modèle choisi (generations des \"anchor boxes\" par exemple) doivent également être paramétrés."
   ]
  },
  {
   "cell_type": "markdown",
   "id": "fa84424f",
   "metadata": {},
   "source": [
    "##  1 - Lister des bases train et test disponibles"
   ]
  },
  {
   "cell_type": "code",
   "execution_count": 22,
   "id": "f7150cad",
   "metadata": {
    "scrolled": true
   },
   "outputs": [
    {
     "name": "stdout",
     "output_type": "stream",
     "text": [
      "/tf/annotations/train_13250_90_70.tfrecord\n",
      "/tf/annotations/test_13250_90_70.tfrecord\n",
      "/tf/annotations/train_26500_90_70.tfrecord\n",
      "/tf/annotations/test_26500_90_70.tfrecord\n",
      "/tf/annotations/train_53000_90_70.tfrecord\n",
      "/tf/annotations/test_53000_90_70.tfrecord\n"
     ]
    }
   ],
   "source": [
    "for path in [os.path.join(tfrecord_dir, p) for p in os.listdir(tfrecord_dir)]:\n",
    "    print(path)"
   ]
  },
  {
   "cell_type": "code",
   "execution_count": 23,
   "id": "2dda8c13",
   "metadata": {},
   "outputs": [
    {
     "ename": "SyntaxError",
     "evalue": "invalid syntax (4135243950.py, line 3)",
     "output_type": "error",
     "traceback": [
      "\u001b[0;36m  Input \u001b[0;32mIn [23]\u001b[0;36m\u001b[0m\n\u001b[0;31m    batch_size : 32\u001b[0m\n\u001b[0m    ^\u001b[0m\n\u001b[0;31mSyntaxError\u001b[0m\u001b[0;31m:\u001b[0m invalid syntax\n"
     ]
    }
   ],
   "source": [
    "config_dict = {\n",
    "    num_classes : 1,\n",
    "    batch_size : 32,\n",
    "    train_tfrecord : '/tf/annotations/train_13250_90_70.tfrecord',\n",
    "    test_tfrecord : '/tf/annotations/test_13250_90_70.tfrecord',\n",
    "    label_map_path : '/tf/ship_detect_tl/data/label_map.txt',\n",
    "    fine_tune_checkpoint_type : \"detection\"\n",
    "}"
   ]
  },
  {
   "cell_type": "code",
   "execution_count": null,
   "id": "5de4d72a",
   "metadata": {},
   "outputs": [],
   "source": []
  }
 ],
 "metadata": {
  "kernelspec": {
   "display_name": "Python 3 (ipykernel)",
   "language": "python",
   "name": "python3"
  },
  "language_info": {
   "codemirror_mode": {
    "name": "ipython",
    "version": 3
   },
   "file_extension": ".py",
   "mimetype": "text/x-python",
   "name": "python",
   "nbconvert_exporter": "python",
   "pygments_lexer": "ipython3",
   "version": "3.8.10"
  }
 },
 "nbformat": 4,
 "nbformat_minor": 5
}
