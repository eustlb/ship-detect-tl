{
 "cells": [
  {
   "cell_type": "markdown",
   "id": "9bd4cf35",
   "metadata": {},
   "source": [
    "# I - Création des tfrecord train et test"
   ]
  },
  {
   "cell_type": "markdown",
   "id": "9b4d88d8",
   "metadata": {},
   "source": [
    "## 1 - paramètres :"
   ]
  },
  {
   "cell_type": "code",
   "execution_count": 18,
   "id": "9e4c451b",
   "metadata": {},
   "outputs": [],
   "source": [
    "path_od_csv = '/tf/ship_detect_tl/data_parsing/CSV/train_ship_segmentations_OD.csv'\n",
    "path_h_csv = '/tf/ship_detect_tl/data_parsing/CSV/boats_hash.csv'\n",
    "path_cluster_csv = '/tf/ship_detect_tl/data_parsing/CSV/clusters_sizes.csv'\n",
    "imgs_dir = '/tf/ship_data/train_v2'\n",
    "boat_rate = 0.7 # taux d'images contenant au moins un bateau\n",
    "cut_rate = 0.8 # taux d'images (par rapport à nb_images) utilisées pour train. Le reste sera utilisé pour test.\n",
    "tfrecord_dir = '/tf/ship_data/annotations' # répertoire où train et test seront créés"
   ]
  },
  {
   "cell_type": "markdown",
   "id": "4f410913",
   "metadata": {},
   "source": [
    "## 2 - exécution du script :"
   ]
  },
  {
   "cell_type": "markdown",
   "id": "bab7debc",
   "metadata": {},
   "source": [
    "Génère deux fichiers au format tfrecord dans le répertoire tfrecord_dir : deux fichiers train et test nommés selon train_70_80.tfrecord pour 70% d'images avec bateau réparties 80% dans train, le reste dans test.\n",
    "Génère également un fichier \"metadata.txt\" avec des informations concernant les base crées, les CSV des images présentes dans train et test au format pascal VOC ainsi que les distribution de tailles de nos deux bases."
   ]
  },
  {
   "cell_type": "code",
   "execution_count": 6,
   "id": "4ad18862",
   "metadata": {
    "scrolled": true
   },
   "outputs": [
    {
     "name": "stdout",
     "output_type": "stream",
     "text": [
      "Création des dataframes train et test...\n"
     ]
    },
    {
     "name": "stderr",
     "output_type": "stream",
     "text": [
      "100%|████████████████████████████████████████████████████████████████████████████████████████████████████████████████████████████████████████████████████████████████████████| 14220/14220 [03:26<00:00, 68.89it/s]\n",
      "100%|██████████████████████████████████████████████████████████████████████████████████████████████████████████████████████████████████████████████████████████████████████████| 3720/3720 [00:45<00:00, 81.00it/s]\n"
     ]
    },
    {
     "name": "stdout",
     "output_type": "stream",
     "text": [
      "Création de la distribution de tailles de bboxs de la base train (pdf)\n"
     ]
    },
    {
     "name": "stderr",
     "output_type": "stream",
     "text": [
      "100%|███████████████████████████████████████████████████████████████████████████████████████████████████████████████████████████████████████████████████████████████████████| 14220/14220 [01:04<00:00, 221.97it/s]\n",
      "100%|██████████████████████████████████████████████████████████████████████████████████████████████████████████████████████████████████████████████████████████████████████| 14267/14267 [00:10<00:00, 1311.98it/s]\n"
     ]
    },
    {
     "name": "stdout",
     "output_type": "stream",
     "text": [
      "Création de la distribution de tailles de bboxs de la base test (pdf)\n"
     ]
    },
    {
     "name": "stderr",
     "output_type": "stream",
     "text": [
      "100%|█████████████████████████████████████████████████████████████████████████████████████████████████████████████████████████████████████████████████████████████████████████| 3720/3720 [00:17<00:00, 215.13it/s]\n",
      "100%|████████████████████████████████████████████████████████████████████████████████████████████████████████████████████████████████████████████████████████████████████████| 5857/5857 [00:04<00:00, 1321.50it/s]\n"
     ]
    },
    {
     "name": "stdout",
     "output_type": "stream",
     "text": [
      "Création du tfrecord train...\n"
     ]
    },
    {
     "name": "stderr",
     "output_type": "stream",
     "text": [
      "100%|███████████████████████████████████████████████████████████████████████████████████████████████████████████████████████████████████████████████████████████████████████| 14220/14220 [00:45<00:00, 312.21it/s]\n"
     ]
    },
    {
     "name": "stdout",
     "output_type": "stream",
     "text": [
      "Création du tfrecord test...\n"
     ]
    },
    {
     "name": "stderr",
     "output_type": "stream",
     "text": [
      "100%|█████████████████████████████████████████████████████████████████████████████████████████████████████████████████████████████████████████████████████████████████████████| 3720/3720 [00:05<00:00, 656.20it/s]\n"
     ]
    },
    {
     "name": "stdout",
     "output_type": "stream",
     "text": [
      "Tfrecords créés avec succès !\n",
      "Enregistrés dans le répertoire : /tf/ship_data/annotations/70_80\n"
     ]
    },
    {
     "data": {
      "image/png": "[encoded data removed]",
      "text/plain": [
       "<Figure size 720x864 with 2 Axes>"
      ]
     },
     "metadata": {
      "needs_background": "light"
     },
     "output_type": "display_data"
    },
    {
     "data": {
      "image/png": "[encoded data removed]",
      "text/plain": [
       "<Figure size 720x864 with 2 Axes>"
      ]
     },
     "metadata": {
      "needs_background": "light"
     },
     "output_type": "display_data"
    }
   ],
   "source": [
    "from generate_tfrecord import generate_tf_record\n",
    "generate_tf_record(path_od_csv, path_h_csv, path_cluster_csv, imgs_dir, cut_rate, boat_rate, tfrecord_dir)"
   ]
  },
  {
   "cell_type": "markdown",
   "id": "510f6520",
   "metadata": {},
   "source": [
    "# II - Chargement du modèle"
   ]
  },
  {
   "cell_type": "markdown",
   "id": "ddacd9a1",
   "metadata": {},
   "source": [
    "## 1 - paramètres :"
   ]
  },
  {
   "cell_type": "markdown",
   "id": "9fbacc48",
   "metadata": {},
   "source": [
    "Les modèles sont importés du \"model zoo\" de tensorflow : https://github.com/tensorflow/models/blob/master/research/object_detection/g3doc/tf2_detection_zoo.md"
   ]
  },
  {
   "cell_type": "code",
   "execution_count": 19,
   "id": "c260b7a5",
   "metadata": {},
   "outputs": [],
   "source": [
    "models_dir = '/tf/pretrained_models' # répertoire où les models seront téléchargés\n",
    "model_url = 'http://download.tensorflow.org/models/object_detection/tf2/20200711/faster_rcnn_resnet101_v1_1024x1024_coco17_tpu-8.tar.gz'"
   ]
  },
  {
   "cell_type": "markdown",
   "id": "5ea8b49c",
   "metadata": {},
   "source": [
    "## 2 - exécution du script :"
   ]
  },
  {
   "cell_type": "code",
   "execution_count": 10,
   "id": "6ea4792f",
   "metadata": {
    "scrolled": true
   },
   "outputs": [
    {
     "name": "stdout",
     "output_type": "stream",
     "text": [
      "Downloading data from http://download.tensorflow.org/models/object_detection/tf2/20200711/faster_rcnn_resnet50_v1_1024x1024_coco17_tpu-8.tar.gz\n",
      "212156416/212150153 [==============================] - 3s 0us/step\n"
     ]
    }
   ],
   "source": [
    "from download_model import download_model\n",
    "download_model(model_url, models_dir)"
   ]
  },
  {
   "cell_type": "markdown",
   "id": "882993dd",
   "metadata": {},
   "source": [
    "# III - Paramétrage des hyperparamètres du modèle"
   ]
  },
  {
   "cell_type": "markdown",
   "id": "09177970",
   "metadata": {},
   "source": [
    "Le paramétrage suivant n'est pas exhaustif. Seuls les paramètres génériques, assurant à l'apprentissage puisse être lancé. D'autres hyperparamètres spécifiques au modèle choisi (generations des \"anchor boxes\" par exemple) doivent également être paramétrés."
   ]
  },
  {
   "cell_type": "markdown",
   "id": "fa84424f",
   "metadata": {},
   "source": [
    "##  1 - choix des paramètres"
   ]
  },
  {
   "cell_type": "code",
   "execution_count": 15,
   "id": "2dda8c13",
   "metadata": {},
   "outputs": [],
   "source": [
    "config_dict = {\n",
    "    'num_classes' : 1,\n",
    "    'batch_size' : 48,\n",
    "    'train_tfrecord_path' : '/tf/ship_data/annotations/70_80/train_aug_70_80.tfrecord',\n",
    "    'test_tfrecord_path' : '/tf/ship_data/annotations/70_80/test_70_80.tfrecord',\n",
    "    'label_map_path' : '/tf/ship_detect_tl/data/label_map.txt',\n",
    "    'fine_tune_checkpoint' : '/tf/pretrained_models/checkpoints/faster_rcnn_resnet50_v1_1024x1024_coco17_tpu-8/checkpoint/ckpt-0',\n",
    "    'fine_tune_checkpoint_type' : \"detection\"\n",
    "    \n",
    "}"
   ]
  },
  {
   "cell_type": "markdown",
   "id": "7246a9cc",
   "metadata": {},
   "source": [
    "## 2 -  Ecrire ces paramètres dans le fichier config"
   ]
  },
  {
   "cell_type": "code",
   "execution_count": 16,
   "id": "70570fe9",
   "metadata": {},
   "outputs": [],
   "source": [
    "pipeline_config_path = '/tf/custom_models/faster_rcnn_resnet50_1024_3/pipeline.config'"
   ]
  },
  {
   "cell_type": "code",
   "execution_count": 17,
   "id": "7ed39d52",
   "metadata": {
    "scrolled": false
   },
   "outputs": [
    {
     "name": "stdout",
     "output_type": "stream",
     "text": [
      "INFO:tensorflow:Writing pipeline config file to /tf/custom_models/faster_rcnn_resnet50_1024_3/pipeline.config\n"
     ]
    },
    {
     "name": "stderr",
     "output_type": "stream",
     "text": [
      "[08/23 08:56:59] tensorflow INFO: Writing pipeline config file to /tf/custom_models/faster_rcnn_resnet50_1024_3/pipeline.config\n"
     ]
    }
   ],
   "source": [
    "from modify_pipeline import modify_pipeline\n",
    "modify_pipeline(pipeline_config_path, config_dict)"
   ]
  },
  {
   "cell_type": "markdown",
   "id": "2f72adfd",
   "metadata": {},
   "source": [
    "### modifier à la main dans le fichier config :"
   ]
  },
  {
   "cell_type": "markdown",
   "id": "84da5e02",
   "metadata": {},
   "source": [
    "scales: [0.17109284, 0.34188799, 0.05408635, 0.56590215]\\\n",
    "aspect_ratios: [1.49923858, 0.75238974, 2.61692419, 4.38809159]"
   ]
  },
  {
   "cell_type": "markdown",
   "id": "3ceaf1f4",
   "metadata": {},
   "source": [
    "Ces tailles de bboxs sont celles determinées par clustering. Voir le *notebook EDA_of_bbox* dans le dossier *tools*."
   ]
  },
  {
   "cell_type": "markdown",
   "id": "74e3ac13",
   "metadata": {},
   "source": [
    "# IV - Génération des commandes pour lancer l'entrainement et l'évaluation"
   ]
  },
  {
   "cell_type": "markdown",
   "id": "5e777b08",
   "metadata": {},
   "source": [
    "Il s'agira de copier ses commandes et de les coller dans le terminal de la machine où l'on souhaite lancer l'entrainement. \n",
    "Autrement dit, ces commandes doivent être exécutées dans le container paramétré selon la procédure décrite dans le tutoriel *tuto_image_docker* dans le dossier *tutorials*.\n",
    "Ensuite, pour pouvoir avoir deux courbes (entrainement et validation), il faut exécuter les commande d'entrainement et de test en parallèle dans deux terminaux (dans le container). De plus, il est nécéssaire de veiller à allouer les ressources GPU de sorte que le calcul de la validation soit terminé avant l'arrivée du prochain checkpoint (on peut aussi jouer sur d'autres paramètres tels que la taille du dataset test, le nombre de steps avant d'écrire un checkpoint ou encore le nombre d'images testées dans le dataset tes)."
   ]
  },
  {
   "cell_type": "markdown",
   "id": "883842a8",
   "metadata": {},
   "source": [
    "## 1 -  Entrainement"
   ]
  },
  {
   "cell_type": "markdown",
   "id": "64520571",
   "metadata": {},
   "source": [
    "### Allocation des ressources GPU (voir paragraphe précédent)"
   ]
  },
  {
   "cell_type": "markdown",
   "id": "18b44f89",
   "metadata": {},
   "source": [
    "Dans le terminal du container dans lequel sera exécuté l'entrainement, coller (ex. si l'on choisit les GPU 0,1 et 2) : export CUDA_VISIBLE_DEVICES=0,1,2,3,4,5,6"
   ]
  },
  {
   "cell_type": "markdown",
   "id": "6509ac1e",
   "metadata": {},
   "source": [
    "### Commande pour l'entrainement"
   ]
  },
  {
   "cell_type": "code",
   "execution_count": 10,
   "id": "4943aa0b",
   "metadata": {},
   "outputs": [],
   "source": [
    "model_dir = '/tf/custom_models/faster_rcnn_resnet50_1024_3/checkpoint'\n",
    "pipeline_config_path = '/tf/custom_models/faster_rcnn_resnet50_1024_3/pipeline.config'\n",
    "num_train_steps = '25000'"
   ]
  },
  {
   "cell_type": "markdown",
   "id": "720f147c",
   "metadata": {},
   "source": [
    "Copier coller la commande affichée après exécution de la cellule suivante dans le terminal du container dans lequel sera exécuté l'entrainement."
   ]
  },
  {
   "cell_type": "code",
   "execution_count": 11,
   "id": "743a0f79",
   "metadata": {},
   "outputs": [
    {
     "name": "stdout",
     "output_type": "stream",
     "text": [
      "python /tf/models/research/object_detection/model_main_tf2.py --model_dir=/tf/custom_models/faster_rcnn_resnet50_1024_3/checkpoint --pipeline_config_path=/tf/custom_models/faster_rcnn_resnet50_1024_3/pipeline.config --num_train_steps=25000 --alsologtostderr\n"
     ]
    }
   ],
   "source": [
    "command = 'python /tf/models/research/object_detection/model_main_tf2.py --model_dir={} --pipeline_config_path={} --num_train_steps={} --alsologtostderr'.format(model_dir, pipeline_config_path, num_train_steps)\n",
    "print(command)"
   ]
  },
  {
   "cell_type": "markdown",
   "id": "2764fd3a",
   "metadata": {},
   "source": [
    "## 2 -  Validation"
   ]
  },
  {
   "cell_type": "markdown",
   "id": "125a3c0f",
   "metadata": {},
   "source": [
    "### Allocation des ressources GPU"
   ]
  },
  {
   "cell_type": "markdown",
   "id": "435919cd",
   "metadata": {},
   "source": [
    "Dans le terminal du container dans lequel sera exécuté l'entrainement, coller (ex. si l'on choisit les GPU 3) : export CUDA_VISIBLE_DEVICES=7"
   ]
  },
  {
   "cell_type": "markdown",
   "id": "3a3ab7d9",
   "metadata": {},
   "source": [
    "### Commande pour la validation"
   ]
  },
  {
   "cell_type": "code",
   "execution_count": 12,
   "id": "84320bd5",
   "metadata": {},
   "outputs": [],
   "source": [
    "checkpoint_dir = model_dir\n",
    "sample_1_of_n_eval_examples = '1'"
   ]
  },
  {
   "cell_type": "markdown",
   "id": "f1e4b94e",
   "metadata": {},
   "source": [
    "Copier coller la commande affichée après exécution de la cellule suivante dans le terminal du container dans lequel sera exécuté l'entrainement."
   ]
  },
  {
   "cell_type": "code",
   "execution_count": 13,
   "id": "d3795f3b",
   "metadata": {},
   "outputs": [
    {
     "name": "stdout",
     "output_type": "stream",
     "text": [
      "python /tf/models/research/object_detection/model_main_tf2.py --model_dir=/tf/custom_models/faster_rcnn_resnet50_1024_3/checkpoint --pipeline_config_path=/tf/custom_models/faster_rcnn_resnet50_1024_3/pipeline.config --checkpoint_dir=/tf/custom_models/faster_rcnn_resnet50_1024_3/checkpoint --sample_1_of_n_eval_examples=1\n"
     ]
    }
   ],
   "source": [
    "command = 'python /tf/models/research/object_detection/model_main_tf2.py --model_dir={} --pipeline_config_path={} --checkpoint_dir={} --sample_1_of_n_eval_examples={}'.format(model_dir, pipeline_config_path, checkpoint_dir, sample_1_of_n_eval_examples)\n",
    "print(command)"
   ]
  },
  {
   "cell_type": "markdown",
   "id": "559c2b38",
   "metadata": {},
   "source": [
    "# V - observation des résultats "
   ]
  },
  {
   "cell_type": "markdown",
   "id": "65d6e7f2",
   "metadata": {},
   "source": [
    "Les courbes sont observables sous Tensorboard. Pour le lancer, il faudra exécuter la commande suivante dans le terminal du container. Puisque Tensorboard va tourner sur l'adresse locale du container, il ne sera pas accessible depuis l'ordinateur hôte. Il faut mettre en place du port forwarding voir établir un tunnel ssh si le container tourne sur un server. Cependant, pas d'inquiétude ! Si le container est ouvert sur VSCode, ce dernier va s'en occuper pour nous."
   ]
  },
  {
   "cell_type": "code",
   "execution_count": 10,
   "id": "b19e4dd2",
   "metadata": {
    "scrolled": true
   },
   "outputs": [
    {
     "name": "stdout",
     "output_type": "stream",
     "text": [
      "tensorboard --logdir /tf/custom_models/faster_rcnn_resnet101_v1_1024x1024_coco17_tpu-8/checkpoint --host 0.0.0.0\n"
     ]
    }
   ],
   "source": [
    "print('tensorboard --logdir {} --host 0.0.0.0'.format(model_dir))"
   ]
  }
 ],
 "metadata": {
  "kernelspec": {
   "display_name": "Python 3 (ipykernel)",
   "language": "python",
   "name": "python3"
  },
  "language_info": {
   "codemirror_mode": {
    "name": "ipython",
    "version": 3
   },
   "file_extension": ".py",
   "mimetype": "text/x-python",
   "name": "python",
   "nbconvert_exporter": "python",
   "pygments_lexer": "ipython3",
   "version": "3.8.10"
  }
 },
 "nbformat": 4,
 "nbformat_minor": 5
}
